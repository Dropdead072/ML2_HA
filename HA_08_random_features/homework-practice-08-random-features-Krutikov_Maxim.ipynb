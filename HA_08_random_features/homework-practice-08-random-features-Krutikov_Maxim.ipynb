{
 "cells": [
  {
   "cell_type": "markdown",
   "metadata": {
    "id": "RYp0bXOFK-hP"
   },
   "source": [
    "# Машинное обучение, ФКН ВШЭ\n",
    "\n",
    "## Практическое задание 8. Метод опорных векторов и аппроксимация ядер\n",
    "\n",
    "### Общая информация\n",
    "\n",
    "Дата выдачи: 02.02.2024\n",
    "\n",
    "Мягкий дедлайн: 23:59MSK 19.02.2024\n",
    "\n",
    "Жесткий дедлайн: 23:59MSK 25.02.2024\n",
    "\n",
    "### Оценивание и штрафы\n",
    "Каждая из задач имеет определенную «стоимость» (указана в скобках около задачи). Максимальная оценка за работу (без учёта бонусов) — 10 баллов.\n",
    "\n",
    "Сдавать задание после указанного жёсткого срока сдачи нельзя. При выставлении неполного балла за задание в связи с наличием ошибок на усмотрение проверяющего предусмотрена возможность исправить работу на указанных в ответном письме условиях.\n",
    "\n",
    "Задание выполняется самостоятельно. «Похожие» решения считаются плагиатом и все задействованные студенты (в том числе те, у кого списали) не могут получить за него больше 0 баллов (подробнее о плагиате см. на странице курса). Если вы нашли решение какого-то из заданий (или его часть) в открытом источнике, необходимо указать ссылку на этот источник в отдельном блоке в конце вашей работы (скорее всего вы будете не единственным, кто это нашел, поэтому чтобы исключить подозрение в плагиате, необходима ссылка на источник).\n",
    "\n",
    "Неэффективная реализация кода может негативно отразиться на оценке.\n",
    "\n",
    "### Формат сдачи\n",
    "Задания сдаются через систему anytask. Посылка должна содержать:\n",
    "* Ноутбук homework-practice-08-random-features-Username.ipynb\n",
    "\n",
    "Username — ваша фамилия и имя на латинице именно в таком порядке"
   ]
  },
  {
   "cell_type": "markdown",
   "metadata": {
    "id": "vY8vT0W_K-hR"
   },
   "source": [
    "### О задании\n",
    "\n",
    "На занятиях мы подробно обсуждали метод опорных векторов (SVM). В базовой версии в нём нет чего-то особенного — мы всего лишь используем специальную функцию потерь, которая не требует устремлять отступы к бесконечности; ей достаточно, чтобы отступы были не меньше +1. Затем мы узнали, что SVM можно переписать в двойственном виде, который, позволяет заменить скалярные произведения объектов на ядра. Это будет соответствовать построению модели в новом пространстве более высокой размерности, координаты которого представляют собой нелинейные модификации исходных признаков.\n",
    "\n",
    "Ядровой SVM, к сожалению, довольно затратен по памяти (нужно хранить матрицу Грама размера $d \\times d$) и по времени (нужно решать задачу условной оптимизации с квадратичной функцией, а это не очень быстро). Мы обсуждали, что есть способы посчитать новые признаки $\\tilde \\varphi(x)$ на основе исходных так, что скалярные произведения этих новых $\\langle \\tilde \\varphi(x), \\tilde \\varphi(z) \\rangle$ приближают ядро $K(x, z)$.\n",
    "\n",
    "Мы будем исследовать аппроксимации методом Random Fourier Features (RFF, также в литературе встречается название Random Kitchen Sinks) для гауссовых ядер. Будем использовать формулы, которые немного отличаются от того, что было на лекциях (мы добавим сдвиги внутрь тригонометрических функций и будем использовать только косинусы, потому что с нужным сдвигом косинус превратится в синус):\n",
    "$$\\tilde \\varphi(x) = (\n",
    "\\cos (w_1^T x + b_1),\n",
    "\\dots,\n",
    "\\cos (w_n^T x + b_n)\n",
    "),$$\n",
    "где $w_j \\sim \\mathcal{N}(0, 1/\\sigma^2)$, $b_j \\sim U[-\\pi, \\pi]$.\n",
    "\n",
    "На новых признаках $\\tilde \\varphi(x)$ мы будем строить любую линейную модель.\n",
    "\n",
    "Можно считать, что это некоторая новая парадигма построения сложных моделей. Можно направленно искать сложные нелинейные закономерности в данных с помощью градиентного бустинга или нейронных сетей, а можно просто нагенерировать большое количество случайных нелинейных признаков и надеяться, что быстрая и простая модель (то есть линейная) сможет показать на них хорошее качество. В этом задании мы изучим, насколько работоспособна такая идея.\n",
    "\n",
    "### Алгоритм\n",
    "\n",
    "Вам потребуется реализовать следующий алгоритм:\n",
    "1. Понизить размерность выборки до new_dim с помощью метода главных компонент.\n",
    "2. Для полученной выборки оценить гиперпараметр $\\sigma^2$ с помощью эвристики (рекомендуем считать медиану не по всем парам объектов, а по случайному подмножеству из где-то миллиона пар объектов): $$\\sigma^2 = \\text{median}_{i, j = 1, \\dots, \\ell, i \\neq j} \\left\\{\\sum_{k = 1}^{d} (x_{ik} - x_{jk})^2 \\right\\}$$\n",
    "3. Сгенерировать n_features наборов весов $w_j$ и сдвигов $b_j$.\n",
    "4. Сформировать n_features новых признаков по формулам, приведённым выше.\n",
    "5. Обучить линейную модель (логистическую регрессию или SVM) на новых признаках.\n",
    "6. Повторить преобразования (PCA, формирование новых признаков) к тестовой выборке и применить модель."
   ]
  },
  {
   "cell_type": "markdown",
   "metadata": {
    "id": "N_sGunb7K-hS"
   },
   "source": [
    "Тестировать алгоритм мы будем на данных Fashion MNIST. Ниже код для их загрузки и подготовки."
   ]
  },
  {
   "cell_type": "code",
   "execution_count": 1,
   "metadata": {
    "id": "YyG6dBfjK-hS"
   },
   "outputs": [
    {
     "name": "stdout",
     "output_type": "stream",
     "text": [
      "WARNING:tensorflow:From c:\\Users\\Max\\AppData\\Local\\Programs\\Python\\Python311\\Lib\\site-packages\\keras\\src\\losses.py:2976: The name tf.losses.sparse_softmax_cross_entropy is deprecated. Please use tf.compat.v1.losses.sparse_softmax_cross_entropy instead.\n",
      "\n"
     ]
    }
   ],
   "source": [
    "import keras\n",
    "from keras.datasets import fashion_mnist\n",
    "(x_train_pics, y_train), (x_test_pics, y_test) = fashion_mnist.load_data()\n",
    "x_train = x_train_pics.reshape(y_train.shape[0], -1)\n",
    "x_test = x_test_pics.reshape(y_test.shape[0], -1)"
   ]
  },
  {
   "cell_type": "code",
   "execution_count": 2,
   "metadata": {},
   "outputs": [],
   "source": [
    "import pandas as pd\n",
    "import numpy as np"
   ]
  },
  {
   "cell_type": "code",
   "execution_count": 3,
   "metadata": {},
   "outputs": [
    {
     "name": "stdout",
     "output_type": "stream",
     "text": [
      "(60000, 28, 28)\n",
      "(60000,)\n",
      "(60000, 784)\n"
     ]
    }
   ],
   "source": [
    "print(x_train_pics.shape)\n",
    "print(y_train.shape)\n",
    "print(x_train.shape)"
   ]
  },
  {
   "cell_type": "markdown",
   "metadata": {},
   "source": [
    "Немного о данных, с которыми предстоит работать:\n",
    "\n",
    "1.  x_train_pics - 3D массив изображений \n",
    "2.  x_train - развернутый в матрицу x_train_pics (каждая строка - развернутое 28x28 изображение)\n",
    "3.  y_train - массив меток классов"
   ]
  },
  {
   "cell_type": "markdown",
   "metadata": {
    "id": "rJNN55F7K-hT"
   },
   "source": [
    "__Задание 1. (5 баллов)__\n",
    "\n",
    "Реализуйте алгоритм, описанный выше. Можете воспользоваться шаблоном класса ниже или написать свой интерфейс.\n",
    "\n",
    "Ваша реализация должна поддерживать следующие опции:\n",
    "1. Возможность задавать значения гиперпараметров new_dim (по умолчанию 50) и n_features (по умолчанию 1000).\n",
    "2. Возможность включать или выключать предварительное понижение размерности с помощью метода главных компонент.\n",
    "3. Возможность выбирать тип линейной модели (логистическая регрессия или SVM с линейным ядром).\n",
    "\n",
    "Протестируйте на данных Fashion MNIST, сформированных кодом выше. Если на тесте у вас получилась доля верных ответов не ниже 0.84 с гиперпараметрами по умолчанию, то вы всё сделали правильно."
   ]
  },
  {
   "cell_type": "code",
   "execution_count": 4,
   "metadata": {},
   "outputs": [],
   "source": [
    "from sklearn import decomposition, preprocessing, svm, linear_model\n",
    "from sklearn.model_selection import train_test_split\n",
    "from sklearn import metrics"
   ]
  },
  {
   "cell_type": "code",
   "execution_count": 5,
   "metadata": {
    "id": "jP8yepx8K-hT"
   },
   "outputs": [],
   "source": [
    "from sklearn.base import BaseEstimator, TransformerMixin\n",
    "\n",
    "\n",
    "class RFFPipeline(BaseEstimator, TransformerMixin):\n",
    "    def __init__(self, n_features=1000, new_dim=50, use_PCA=True, classifier='logreg'):\n",
    "        \"\"\"        \n",
    "        Implements pipeline, which consists of PCA decomposition,\n",
    "        Random Fourier Features approximation and linear classification model.\n",
    "        \n",
    "        n_features, int: amount of synthetic random features generated with RFF approximation.\n",
    "\n",
    "        new_dim, int: PCA output size.\n",
    "        \n",
    "        use_PCA, bool: whether to include PCA preprocessing.\n",
    "        \n",
    "        classifier, string: either 'svm' or 'logreg', a linear classification model to use on top of pipeline.\n",
    "        \n",
    "        Feel free to edit this template for your preferences.    \n",
    "        \"\"\"\n",
    "        self.n_features = n_features\n",
    "        self.use_PCA = use_PCA\n",
    "        self.new_dim = new_dim\n",
    "        if classifier not in ['svm', 'logreg']:\n",
    "            raise ValueError('Incorrect classifier')\n",
    "        else:\n",
    "            self.classifier = classifier\n",
    "    \n",
    "    def __PCA(self, X, train=True) -> np.ndarray:\n",
    "        if train:\n",
    "            self.pca = decomposition.PCA(n_components=self.new_dim)\n",
    "            self.pca.fit(X)            \n",
    "        X_decomposed = self.pca.transform(X)\n",
    "        return X_decomposed\n",
    "\n",
    "    def __sigma(self, X, subset_size=1000000) -> float:\n",
    "        X_dim = X.shape\n",
    "        if X_dim[0] * X_dim[1] < 2 * subset_size:\n",
    "            subset_rows = X_dim[0] // 2\n",
    "        else:\n",
    "            subset_rows = subset_size // X_dim[1]\n",
    "        \n",
    "        X_new = np.array(X)\n",
    "        np.random.shuffle(X_new)\n",
    "        eval_subset = X_new[:(2 * subset_rows)]\n",
    "        eval_subset_one = eval_subset[:subset_rows]\n",
    "        eval_subset_two = eval_subset[subset_rows:(subset_rows * 2)]\n",
    "\n",
    "        del eval_subset\n",
    "\n",
    "        substract_squared = np.power((eval_subset_one - eval_subset_two), 2)\n",
    "        for i in range(subset_rows):\n",
    "            substract_squared[i] = substract_squared[i].sum()\n",
    "        substract_squared = substract_squared[:, 0]\n",
    "        median = np.median(substract_squared)\n",
    "        # need a dot product of every row of substract_squared with I (Единичная матрица)\n",
    "        # then reshape it to a vector and find median\n",
    "        # BINGO!\n",
    "        return median\n",
    "\n",
    "    def __RFF(self, X, train=True):\n",
    "        sigma_squared = self.__sigma(X)\n",
    "        d = X.shape[1]\n",
    "        if train:\n",
    "            self.weights = np.random.normal(loc=0, scale=np.sqrt(1/sigma_squared), size=(self.n_features, d))\n",
    "            self.bias = np.random.uniform(-np.pi, np.pi, size=(self.n_features, 1))\n",
    "\n",
    "        X_RFF = np.cos( self.weights @ X.T + self.bias ).T\n",
    "        if train:\n",
    "            self.transformer = preprocessing.MinMaxScaler()\n",
    "            self.transformer.fit(X_RFF)\n",
    "        X_RFF = self.transformer.transform(X_RFF)\n",
    "        \n",
    "        # raise NotImplementedError\n",
    "        return X_RFF\n",
    "\n",
    "    def fit(self, X, y):\n",
    "        \"\"\"\n",
    "        Fit all parts of algorithm (PCA, RFF, Classification) to training set.\n",
    "        \"\"\"\n",
    "        # Your code here: (￣▽￣)/♫•*¨*•.¸¸♪\n",
    "        if self.use_PCA:\n",
    "            X = self.__PCA(X)\n",
    "        else:\n",
    "            X = preprocessing.scale(X)\n",
    "        X_RFF = self.__RFF(X)\n",
    "\n",
    "        # train_set = np.concatenate((y.T, X_RFF), axis=1)\n",
    "\n",
    "        if self.classifier == 'svm':\n",
    "            self.model = svm.SVC(kernel='linear',  max_iter = 10**4)\n",
    "            # np.random.shuffle(train_set)\n",
    "            \n",
    "            self.model.fit(X_RFF, y)\n",
    "        else:\n",
    "            self.model = linear_model.LogisticRegression(max_iter = 10**3)\n",
    "            # np.random.shuffle(train_set)\n",
    "            \n",
    "            self.model.fit(X_RFF, y)\n",
    "\n",
    "        # raise NotImplementedError\n",
    "        return self\n",
    "\n",
    "    def predict_proba(self, X):\n",
    "        \"\"\"\n",
    "        Apply pipeline to obtain scores for input data.\n",
    "        \"\"\"\n",
    "        # Your code here: (￣▽￣)/♫•*¨*•.¸¸♪\n",
    "        if self.use_PCA:\n",
    "            X = self.__PCA(X, False)\n",
    "        else:\n",
    "            X = preprocessing.scale(X)\n",
    "        X_RFF = self.__RFF(X, False)\n",
    "        \n",
    "        # raise NotImplementedError\n",
    "        return self.model.predict_proba(X_RFF)\n",
    "        \n",
    "    def predict(self, X):\n",
    "        \"\"\"\n",
    "        Apply pipeline to obtain discrete predictions for input data.\n",
    "        \"\"\"\n",
    "        # Your code here: (￣▽￣)/♫•*¨*•.¸¸♪\n",
    "        if self.classifier == 'svm':\n",
    "            if self.use_PCA:\n",
    "                X = self.__PCA(X, False)\n",
    "            else:\n",
    "                X = preprocessing.scale(X)\n",
    "            X_RFF = self.__RFF(X, False)\n",
    "            predictions = self.model.predict(X_RFF)\n",
    "        else:\n",
    "            probs = self.predict_proba(X)\n",
    "            predictions = np.argmax(probs, axis = 1)\n",
    "        # raise NotImplementedError\n",
    "        return predictions\n",
    "        "
   ]
  },
  {
   "cell_type": "code",
   "execution_count": 6,
   "metadata": {},
   "outputs": [
    {
     "name": "stdout",
     "output_type": "stream",
     "text": [
      "(30000, 784)\n",
      "(30000, 784)\n",
      "(30000,)\n",
      "(30000,)\n"
     ]
    }
   ],
   "source": [
    "X_train, X_test, Y_train, Y_test = train_test_split(x_train, y_train, test_size=0.5,  random_state=126)\n",
    "\n",
    "print(X_train.shape)\n",
    "print(X_test.shape)\n",
    "print(Y_train.shape)\n",
    "print(Y_test.shape)"
   ]
  },
  {
   "cell_type": "code",
   "execution_count": 7,
   "metadata": {},
   "outputs": [
    {
     "data": {
      "text/plain": [
       "0.8460666666666666"
      ]
     },
     "execution_count": 7,
     "metadata": {},
     "output_type": "execute_result"
    }
   ],
   "source": [
    "predictor = RFFPipeline(classifier='logreg', use_PCA=False, n_features=250)\n",
    "\n",
    "\n",
    "predictor.fit(X_train, Y_train)\n",
    "\n",
    "y_resulted = predictor.predict(X_test)\n",
    "\n",
    "metrics.accuracy_score(Y_test, y_resulted)"
   ]
  },
  {
   "cell_type": "markdown",
   "metadata": {},
   "source": [
    "__ВАЖНЫЙ СЕБЕ УРОК__\n",
    "\n",
    "Скейлить данные для линейных моделей!"
   ]
  },
  {
   "cell_type": "code",
   "execution_count": 8,
   "metadata": {},
   "outputs": [
    {
     "name": "stderr",
     "output_type": "stream",
     "text": [
      "c:\\Users\\Max\\AppData\\Local\\Programs\\Python\\Python311\\Lib\\site-packages\\sklearn\\svm\\_base.py:297: ConvergenceWarning: Solver terminated early (max_iter=10000).  Consider pre-processing your data with StandardScaler or MinMaxScaler.\n",
      "  warnings.warn(\n"
     ]
    },
    {
     "data": {
      "text/plain": [
       "0.8803"
      ]
     },
     "execution_count": 8,
     "metadata": {},
     "output_type": "execute_result"
    }
   ],
   "source": [
    "predictor = RFFPipeline(classifier='svm')\n",
    "\n",
    "\n",
    "predictor.fit(X_train, Y_train)\n",
    "\n",
    "y_resulted = predictor.predict(X_test)\n",
    "\n",
    "metrics.accuracy_score(Y_test, y_resulted)\n",
    "# 88.4"
   ]
  },
  {
   "cell_type": "markdown",
   "metadata": {
    "id": "HYqQUEi-K-hU"
   },
   "source": [
    "__Задание 2. (3 балла)__\n",
    "\n",
    "Сравните подход со случайными признаками с обучением SVM на исходных признаках. Попробуйте вариант с обычным (линейным) SVM и с ядровым SVM. Ядровой SVM может очень долго обучаться, поэтому можно делать любые разумные вещи для ускорения: брать подмножество объектов из обучающей выборки, например.\n",
    "\n",
    "Сравните подход со случайными признаками с вариантом, в котором вы понижаете размерность с помощью PCA и обучаете градиентный бустинг. Используйте одну из реализаций CatBoost/LightGBM/XGBoost, не забудьте подобрать число деревьев и длину шага.\n",
    "\n",
    "Сделайте выводы — насколько идея со случайными признаками работает? Сравните как с точки зрения качества, так и с точки зрения скорости обучения и применения."
   ]
  },
  {
   "cell_type": "markdown",
   "metadata": {},
   "source": [
    "_________\n",
    "\n",
    "Попробую обучить на сырых и на отскейленых данных разные модели и посмотреть на результаты"
   ]
  },
  {
   "cell_type": "code",
   "execution_count": 8,
   "metadata": {
    "id": "qN8LUlJgK-hV"
   },
   "outputs": [],
   "source": [
    "# Your code here: (￣▽￣)/♫•*¨*•.¸¸♪\n",
    "\n",
    "# sklearn kernel svm \n"
   ]
  },
  {
   "cell_type": "code",
   "execution_count": 9,
   "metadata": {},
   "outputs": [],
   "source": [
    "# let's try raw svm on scaled and unscaled\n",
    "\n",
    "X_train_scaled = preprocessing.scale(X_train)\n",
    "X_test_scaled = preprocessing.scale(X_test)\n",
    "\n",
    "\n",
    "model_linear = svm.SVC(kernel='linear',  max_iter = 10**4)\n",
    "model_rbf = svm.SVC(kernel='rbf',  max_iter = 10**4)\n",
    "model_logreg = linear_model.LogisticRegression(max_iter = 10**3)"
   ]
  },
  {
   "cell_type": "code",
   "execution_count": 10,
   "metadata": {},
   "outputs": [
    {
     "name": "stderr",
     "output_type": "stream",
     "text": [
      "c:\\Users\\Max\\AppData\\Local\\Programs\\Python\\Python311\\Lib\\site-packages\\sklearn\\svm\\_base.py:297: ConvergenceWarning: Solver terminated early (max_iter=10000).  Consider pre-processing your data with StandardScaler or MinMaxScaler.\n",
      "  warnings.warn(\n"
     ]
    },
    {
     "name": "stdout",
     "output_type": "stream",
     "text": [
      "Unscaled linear SVM accuracy : 0.7414333333333334\n",
      "Unscaled rbf SVM accuracy : 0.8804333333333333\n"
     ]
    }
   ],
   "source": [
    "# fit unscaled \n",
    "\n",
    "model_linear.fit(X_train, Y_train)\n",
    "model_rbf.fit(X_train, Y_train)\n",
    "\n",
    "pred_unscaled_lin = model_linear.predict(X_test)\n",
    "pred_unscaled_rbf = model_rbf.predict(X_test)\n",
    "\n",
    "print(\"Unscaled linear SVM accuracy :\", metrics.accuracy_score(Y_test, pred_unscaled_lin))\n",
    "print(\"Unscaled rbf SVM accuracy :\", metrics.accuracy_score(Y_test, pred_unscaled_rbf))"
   ]
  },
  {
   "cell_type": "code",
   "execution_count": 11,
   "metadata": {},
   "outputs": [
    {
     "name": "stdout",
     "output_type": "stream",
     "text": [
      "Unscaled Logreg accuracy : 0.8281666666666667\n"
     ]
    },
    {
     "name": "stderr",
     "output_type": "stream",
     "text": [
      "c:\\Users\\Max\\AppData\\Local\\Programs\\Python\\Python311\\Lib\\site-packages\\sklearn\\linear_model\\_logistic.py:469: ConvergenceWarning: lbfgs failed to converge (status=1):\n",
      "STOP: TOTAL NO. of ITERATIONS REACHED LIMIT.\n",
      "\n",
      "Increase the number of iterations (max_iter) or scale the data as shown in:\n",
      "    https://scikit-learn.org/stable/modules/preprocessing.html\n",
      "Please also refer to the documentation for alternative solver options:\n",
      "    https://scikit-learn.org/stable/modules/linear_model.html#logistic-regression\n",
      "  n_iter_i = _check_optimize_result(\n"
     ]
    }
   ],
   "source": [
    "model_logreg.fit(X_train, Y_train)\n",
    "\n",
    "pred_unscaled_logreg = model_logreg.predict(X_test)\n",
    "# pred_unscaled_logreg = np.argmax(pred_unscaled_logreg, axis = 1)\n",
    "\n",
    "print(\"Unscaled Logreg accuracy :\", metrics.accuracy_score(Y_test, pred_unscaled_logreg))"
   ]
  },
  {
   "cell_type": "code",
   "execution_count": 12,
   "metadata": {},
   "outputs": [
    {
     "name": "stderr",
     "output_type": "stream",
     "text": [
      "c:\\Users\\Max\\AppData\\Local\\Programs\\Python\\Python311\\Lib\\site-packages\\sklearn\\svm\\_base.py:297: ConvergenceWarning: Solver terminated early (max_iter=10000).  Consider pre-processing your data with StandardScaler or MinMaxScaler.\n",
      "  warnings.warn(\n"
     ]
    },
    {
     "ename": "KeyboardInterrupt",
     "evalue": "",
     "output_type": "error",
     "traceback": [
      "\u001b[1;31m---------------------------------------------------------------------------\u001b[0m",
      "\u001b[1;31mKeyboardInterrupt\u001b[0m                         Traceback (most recent call last)",
      "Cell \u001b[1;32mIn[12], line 4\u001b[0m\n\u001b[0;32m      1\u001b[0m \u001b[38;5;66;03m# fit scaled\u001b[39;00m\n\u001b[0;32m      3\u001b[0m model_linear\u001b[38;5;241m.\u001b[39mfit(X_train_scaled, Y_train)\n\u001b[1;32m----> 4\u001b[0m \u001b[43mmodel_rbf\u001b[49m\u001b[38;5;241;43m.\u001b[39;49m\u001b[43mfit\u001b[49m\u001b[43m(\u001b[49m\u001b[43mX_train_scaled\u001b[49m\u001b[43m,\u001b[49m\u001b[43m \u001b[49m\u001b[43mY_train\u001b[49m\u001b[43m)\u001b[49m\n\u001b[0;32m      5\u001b[0m model_logreg\u001b[38;5;241m.\u001b[39mfit(X_train_scaled, Y_train)\n\u001b[0;32m      7\u001b[0m pred_scaled_lin \u001b[38;5;241m=\u001b[39m model_linear\u001b[38;5;241m.\u001b[39mpredict(X_test_scaled)\n",
      "File \u001b[1;32mc:\\Users\\Max\\AppData\\Local\\Programs\\Python\\Python311\\Lib\\site-packages\\sklearn\\base.py:1474\u001b[0m, in \u001b[0;36m_fit_context.<locals>.decorator.<locals>.wrapper\u001b[1;34m(estimator, *args, **kwargs)\u001b[0m\n\u001b[0;32m   1467\u001b[0m     estimator\u001b[38;5;241m.\u001b[39m_validate_params()\n\u001b[0;32m   1469\u001b[0m \u001b[38;5;28;01mwith\u001b[39;00m config_context(\n\u001b[0;32m   1470\u001b[0m     skip_parameter_validation\u001b[38;5;241m=\u001b[39m(\n\u001b[0;32m   1471\u001b[0m         prefer_skip_nested_validation \u001b[38;5;129;01mor\u001b[39;00m global_skip_validation\n\u001b[0;32m   1472\u001b[0m     )\n\u001b[0;32m   1473\u001b[0m ):\n\u001b[1;32m-> 1474\u001b[0m     \u001b[38;5;28;01mreturn\u001b[39;00m \u001b[43mfit_method\u001b[49m\u001b[43m(\u001b[49m\u001b[43mestimator\u001b[49m\u001b[43m,\u001b[49m\u001b[43m \u001b[49m\u001b[38;5;241;43m*\u001b[39;49m\u001b[43margs\u001b[49m\u001b[43m,\u001b[49m\u001b[43m \u001b[49m\u001b[38;5;241;43m*\u001b[39;49m\u001b[38;5;241;43m*\u001b[39;49m\u001b[43mkwargs\u001b[49m\u001b[43m)\u001b[49m\n",
      "File \u001b[1;32mc:\\Users\\Max\\AppData\\Local\\Programs\\Python\\Python311\\Lib\\site-packages\\sklearn\\svm\\_base.py:250\u001b[0m, in \u001b[0;36mBaseLibSVM.fit\u001b[1;34m(self, X, y, sample_weight)\u001b[0m\n\u001b[0;32m    247\u001b[0m     \u001b[38;5;28mprint\u001b[39m(\u001b[38;5;124m\"\u001b[39m\u001b[38;5;124m[LibSVM]\u001b[39m\u001b[38;5;124m\"\u001b[39m, end\u001b[38;5;241m=\u001b[39m\u001b[38;5;124m\"\u001b[39m\u001b[38;5;124m\"\u001b[39m)\n\u001b[0;32m    249\u001b[0m seed \u001b[38;5;241m=\u001b[39m rnd\u001b[38;5;241m.\u001b[39mrandint(np\u001b[38;5;241m.\u001b[39miinfo(\u001b[38;5;124m\"\u001b[39m\u001b[38;5;124mi\u001b[39m\u001b[38;5;124m\"\u001b[39m)\u001b[38;5;241m.\u001b[39mmax)\n\u001b[1;32m--> 250\u001b[0m \u001b[43mfit\u001b[49m\u001b[43m(\u001b[49m\u001b[43mX\u001b[49m\u001b[43m,\u001b[49m\u001b[43m \u001b[49m\u001b[43my\u001b[49m\u001b[43m,\u001b[49m\u001b[43m \u001b[49m\u001b[43msample_weight\u001b[49m\u001b[43m,\u001b[49m\u001b[43m \u001b[49m\u001b[43msolver_type\u001b[49m\u001b[43m,\u001b[49m\u001b[43m \u001b[49m\u001b[43mkernel\u001b[49m\u001b[43m,\u001b[49m\u001b[43m \u001b[49m\u001b[43mrandom_seed\u001b[49m\u001b[38;5;241;43m=\u001b[39;49m\u001b[43mseed\u001b[49m\u001b[43m)\u001b[49m\n\u001b[0;32m    251\u001b[0m \u001b[38;5;66;03m# see comment on the other call to np.iinfo in this file\u001b[39;00m\n\u001b[0;32m    253\u001b[0m \u001b[38;5;28mself\u001b[39m\u001b[38;5;241m.\u001b[39mshape_fit_ \u001b[38;5;241m=\u001b[39m X\u001b[38;5;241m.\u001b[39mshape \u001b[38;5;28;01mif\u001b[39;00m \u001b[38;5;28mhasattr\u001b[39m(X, \u001b[38;5;124m\"\u001b[39m\u001b[38;5;124mshape\u001b[39m\u001b[38;5;124m\"\u001b[39m) \u001b[38;5;28;01melse\u001b[39;00m (n_samples,)\n",
      "File \u001b[1;32mc:\\Users\\Max\\AppData\\Local\\Programs\\Python\\Python311\\Lib\\site-packages\\sklearn\\svm\\_base.py:329\u001b[0m, in \u001b[0;36mBaseLibSVM._dense_fit\u001b[1;34m(self, X, y, sample_weight, solver_type, kernel, random_seed)\u001b[0m\n\u001b[0;32m    315\u001b[0m libsvm\u001b[38;5;241m.\u001b[39mset_verbosity_wrap(\u001b[38;5;28mself\u001b[39m\u001b[38;5;241m.\u001b[39mverbose)\n\u001b[0;32m    317\u001b[0m \u001b[38;5;66;03m# we don't pass **self.get_params() to allow subclasses to\u001b[39;00m\n\u001b[0;32m    318\u001b[0m \u001b[38;5;66;03m# add other parameters to __init__\u001b[39;00m\n\u001b[0;32m    319\u001b[0m (\n\u001b[0;32m    320\u001b[0m     \u001b[38;5;28mself\u001b[39m\u001b[38;5;241m.\u001b[39msupport_,\n\u001b[0;32m    321\u001b[0m     \u001b[38;5;28mself\u001b[39m\u001b[38;5;241m.\u001b[39msupport_vectors_,\n\u001b[0;32m    322\u001b[0m     \u001b[38;5;28mself\u001b[39m\u001b[38;5;241m.\u001b[39m_n_support,\n\u001b[0;32m    323\u001b[0m     \u001b[38;5;28mself\u001b[39m\u001b[38;5;241m.\u001b[39mdual_coef_,\n\u001b[0;32m    324\u001b[0m     \u001b[38;5;28mself\u001b[39m\u001b[38;5;241m.\u001b[39mintercept_,\n\u001b[0;32m    325\u001b[0m     \u001b[38;5;28mself\u001b[39m\u001b[38;5;241m.\u001b[39m_probA,\n\u001b[0;32m    326\u001b[0m     \u001b[38;5;28mself\u001b[39m\u001b[38;5;241m.\u001b[39m_probB,\n\u001b[0;32m    327\u001b[0m     \u001b[38;5;28mself\u001b[39m\u001b[38;5;241m.\u001b[39mfit_status_,\n\u001b[0;32m    328\u001b[0m     \u001b[38;5;28mself\u001b[39m\u001b[38;5;241m.\u001b[39m_num_iter,\n\u001b[1;32m--> 329\u001b[0m ) \u001b[38;5;241m=\u001b[39m \u001b[43mlibsvm\u001b[49m\u001b[38;5;241;43m.\u001b[39;49m\u001b[43mfit\u001b[49m\u001b[43m(\u001b[49m\n\u001b[0;32m    330\u001b[0m \u001b[43m    \u001b[49m\u001b[43mX\u001b[49m\u001b[43m,\u001b[49m\n\u001b[0;32m    331\u001b[0m \u001b[43m    \u001b[49m\u001b[43my\u001b[49m\u001b[43m,\u001b[49m\n\u001b[0;32m    332\u001b[0m \u001b[43m    \u001b[49m\u001b[43msvm_type\u001b[49m\u001b[38;5;241;43m=\u001b[39;49m\u001b[43msolver_type\u001b[49m\u001b[43m,\u001b[49m\n\u001b[0;32m    333\u001b[0m \u001b[43m    \u001b[49m\u001b[43msample_weight\u001b[49m\u001b[38;5;241;43m=\u001b[39;49m\u001b[43msample_weight\u001b[49m\u001b[43m,\u001b[49m\n\u001b[0;32m    334\u001b[0m \u001b[43m    \u001b[49m\u001b[43mclass_weight\u001b[49m\u001b[38;5;241;43m=\u001b[39;49m\u001b[38;5;28;43mgetattr\u001b[39;49m\u001b[43m(\u001b[49m\u001b[38;5;28;43mself\u001b[39;49m\u001b[43m,\u001b[49m\u001b[43m \u001b[49m\u001b[38;5;124;43m\"\u001b[39;49m\u001b[38;5;124;43mclass_weight_\u001b[39;49m\u001b[38;5;124;43m\"\u001b[39;49m\u001b[43m,\u001b[49m\u001b[43m \u001b[49m\u001b[43mnp\u001b[49m\u001b[38;5;241;43m.\u001b[39;49m\u001b[43mempty\u001b[49m\u001b[43m(\u001b[49m\u001b[38;5;241;43m0\u001b[39;49m\u001b[43m)\u001b[49m\u001b[43m)\u001b[49m\u001b[43m,\u001b[49m\n\u001b[0;32m    335\u001b[0m \u001b[43m    \u001b[49m\u001b[43mkernel\u001b[49m\u001b[38;5;241;43m=\u001b[39;49m\u001b[43mkernel\u001b[49m\u001b[43m,\u001b[49m\n\u001b[0;32m    336\u001b[0m \u001b[43m    \u001b[49m\u001b[43mC\u001b[49m\u001b[38;5;241;43m=\u001b[39;49m\u001b[38;5;28;43mself\u001b[39;49m\u001b[38;5;241;43m.\u001b[39;49m\u001b[43mC\u001b[49m\u001b[43m,\u001b[49m\n\u001b[0;32m    337\u001b[0m \u001b[43m    \u001b[49m\u001b[43mnu\u001b[49m\u001b[38;5;241;43m=\u001b[39;49m\u001b[38;5;28;43mself\u001b[39;49m\u001b[38;5;241;43m.\u001b[39;49m\u001b[43mnu\u001b[49m\u001b[43m,\u001b[49m\n\u001b[0;32m    338\u001b[0m \u001b[43m    \u001b[49m\u001b[43mprobability\u001b[49m\u001b[38;5;241;43m=\u001b[39;49m\u001b[38;5;28;43mself\u001b[39;49m\u001b[38;5;241;43m.\u001b[39;49m\u001b[43mprobability\u001b[49m\u001b[43m,\u001b[49m\n\u001b[0;32m    339\u001b[0m \u001b[43m    \u001b[49m\u001b[43mdegree\u001b[49m\u001b[38;5;241;43m=\u001b[39;49m\u001b[38;5;28;43mself\u001b[39;49m\u001b[38;5;241;43m.\u001b[39;49m\u001b[43mdegree\u001b[49m\u001b[43m,\u001b[49m\n\u001b[0;32m    340\u001b[0m \u001b[43m    \u001b[49m\u001b[43mshrinking\u001b[49m\u001b[38;5;241;43m=\u001b[39;49m\u001b[38;5;28;43mself\u001b[39;49m\u001b[38;5;241;43m.\u001b[39;49m\u001b[43mshrinking\u001b[49m\u001b[43m,\u001b[49m\n\u001b[0;32m    341\u001b[0m \u001b[43m    \u001b[49m\u001b[43mtol\u001b[49m\u001b[38;5;241;43m=\u001b[39;49m\u001b[38;5;28;43mself\u001b[39;49m\u001b[38;5;241;43m.\u001b[39;49m\u001b[43mtol\u001b[49m\u001b[43m,\u001b[49m\n\u001b[0;32m    342\u001b[0m \u001b[43m    \u001b[49m\u001b[43mcache_size\u001b[49m\u001b[38;5;241;43m=\u001b[39;49m\u001b[38;5;28;43mself\u001b[39;49m\u001b[38;5;241;43m.\u001b[39;49m\u001b[43mcache_size\u001b[49m\u001b[43m,\u001b[49m\n\u001b[0;32m    343\u001b[0m \u001b[43m    \u001b[49m\u001b[43mcoef0\u001b[49m\u001b[38;5;241;43m=\u001b[39;49m\u001b[38;5;28;43mself\u001b[39;49m\u001b[38;5;241;43m.\u001b[39;49m\u001b[43mcoef0\u001b[49m\u001b[43m,\u001b[49m\n\u001b[0;32m    344\u001b[0m \u001b[43m    \u001b[49m\u001b[43mgamma\u001b[49m\u001b[38;5;241;43m=\u001b[39;49m\u001b[38;5;28;43mself\u001b[39;49m\u001b[38;5;241;43m.\u001b[39;49m\u001b[43m_gamma\u001b[49m\u001b[43m,\u001b[49m\n\u001b[0;32m    345\u001b[0m \u001b[43m    \u001b[49m\u001b[43mepsilon\u001b[49m\u001b[38;5;241;43m=\u001b[39;49m\u001b[38;5;28;43mself\u001b[39;49m\u001b[38;5;241;43m.\u001b[39;49m\u001b[43mepsilon\u001b[49m\u001b[43m,\u001b[49m\n\u001b[0;32m    346\u001b[0m \u001b[43m    \u001b[49m\u001b[43mmax_iter\u001b[49m\u001b[38;5;241;43m=\u001b[39;49m\u001b[38;5;28;43mself\u001b[39;49m\u001b[38;5;241;43m.\u001b[39;49m\u001b[43mmax_iter\u001b[49m\u001b[43m,\u001b[49m\n\u001b[0;32m    347\u001b[0m \u001b[43m    \u001b[49m\u001b[43mrandom_seed\u001b[49m\u001b[38;5;241;43m=\u001b[39;49m\u001b[43mrandom_seed\u001b[49m\u001b[43m,\u001b[49m\n\u001b[0;32m    348\u001b[0m \u001b[43m\u001b[49m\u001b[43m)\u001b[49m\n\u001b[0;32m    350\u001b[0m \u001b[38;5;28mself\u001b[39m\u001b[38;5;241m.\u001b[39m_warn_from_fit_status()\n",
      "\u001b[1;31mKeyboardInterrupt\u001b[0m: "
     ]
    }
   ],
   "source": [
    "# fit scaled\n",
    "\n",
    "model_linear.fit(X_train_scaled, Y_train)\n",
    "model_rbf.fit(X_train_scaled, Y_train)\n",
    "model_logreg.fit(X_train_scaled, Y_train)\n",
    "\n",
    "pred_scaled_lin = model_linear.predict(X_test_scaled)\n",
    "pred_scaled_rbf = model_rbf.predict(X_test_scaled)\n",
    "\n",
    "print(\"Scaled linear SVM accuracy :\", metrics.accuracy_score(Y_test, pred_scaled_lin))\n",
    "print(\"Scaled rbf SVM accuracy :\", metrics.accuracy_score(Y_test, pred_scaled_rbf))"
   ]
  },
  {
   "cell_type": "code",
   "execution_count": null,
   "metadata": {},
   "outputs": [
    {
     "name": "stdout",
     "output_type": "stream",
     "text": [
      "Scaled Logreg accuracy : 0.8313666666666667\n"
     ]
    }
   ],
   "source": [
    "pred_scaled_logreg = model_logreg.predict(X_test_scaled)\n",
    "print(\"Scaled Logreg accuracy :\", metrics.accuracy_score(Y_test, pred_scaled_logreg))"
   ]
  },
  {
   "cell_type": "markdown",
   "metadata": {},
   "source": [
    "Вылезли некоторые ошибки, потому что я не проверяю код перед запуском ахаха))\n",
    "\n",
    "Но рассмотрим то, что получилось:"
   ]
  },
  {
   "cell_type": "code",
   "execution_count": 21,
   "metadata": {},
   "outputs": [],
   "source": [
    "model_linreg_PCA = RFFPipeline(n_features=1000, classifier='logreg')\n",
    "model_svm_PCA = RFFPipeline(n_features=1000, classifier='svm')\n",
    "\n",
    "model_linreg = RFFPipeline(n_features=1000, classifier='logreg', use_PCA=False)\n",
    "model_svm = RFFPipeline(n_features=1000, classifier='svm', use_PCA=False)"
   ]
  },
  {
   "cell_type": "code",
   "execution_count": 22,
   "metadata": {},
   "outputs": [
    {
     "name": "stderr",
     "output_type": "stream",
     "text": [
      "c:\\Users\\maxxi\\AppData\\Local\\Programs\\Python\\Python311\\Lib\\site-packages\\sklearn\\linear_model\\_logistic.py:460: ConvergenceWarning: lbfgs failed to converge (status=1):\n",
      "STOP: TOTAL NO. of ITERATIONS REACHED LIMIT.\n",
      "\n",
      "Increase the number of iterations (max_iter) or scale the data as shown in:\n",
      "    https://scikit-learn.org/stable/modules/preprocessing.html\n",
      "Please also refer to the documentation for alternative solver options:\n",
      "    https://scikit-learn.org/stable/modules/linear_model.html#logistic-regression\n",
      "  n_iter_i = _check_optimize_result(\n",
      "c:\\Users\\maxxi\\AppData\\Local\\Programs\\Python\\Python311\\Lib\\site-packages\\sklearn\\svm\\_base.py:297: ConvergenceWarning: Solver terminated early (max_iter=10000).  Consider pre-processing your data with StandardScaler or MinMaxScaler.\n",
      "  warnings.warn(\n"
     ]
    },
    {
     "data": {
      "text/html": [
       "<style>#sk-container-id-3 {color: black;}#sk-container-id-3 pre{padding: 0;}#sk-container-id-3 div.sk-toggleable {background-color: white;}#sk-container-id-3 label.sk-toggleable__label {cursor: pointer;display: block;width: 100%;margin-bottom: 0;padding: 0.3em;box-sizing: border-box;text-align: center;}#sk-container-id-3 label.sk-toggleable__label-arrow:before {content: \"▸\";float: left;margin-right: 0.25em;color: #696969;}#sk-container-id-3 label.sk-toggleable__label-arrow:hover:before {color: black;}#sk-container-id-3 div.sk-estimator:hover label.sk-toggleable__label-arrow:before {color: black;}#sk-container-id-3 div.sk-toggleable__content {max-height: 0;max-width: 0;overflow: hidden;text-align: left;background-color: #f0f8ff;}#sk-container-id-3 div.sk-toggleable__content pre {margin: 0.2em;color: black;border-radius: 0.25em;background-color: #f0f8ff;}#sk-container-id-3 input.sk-toggleable__control:checked~div.sk-toggleable__content {max-height: 200px;max-width: 100%;overflow: auto;}#sk-container-id-3 input.sk-toggleable__control:checked~label.sk-toggleable__label-arrow:before {content: \"▾\";}#sk-container-id-3 div.sk-estimator input.sk-toggleable__control:checked~label.sk-toggleable__label {background-color: #d4ebff;}#sk-container-id-3 div.sk-label input.sk-toggleable__control:checked~label.sk-toggleable__label {background-color: #d4ebff;}#sk-container-id-3 input.sk-hidden--visually {border: 0;clip: rect(1px 1px 1px 1px);clip: rect(1px, 1px, 1px, 1px);height: 1px;margin: -1px;overflow: hidden;padding: 0;position: absolute;width: 1px;}#sk-container-id-3 div.sk-estimator {font-family: monospace;background-color: #f0f8ff;border: 1px dotted black;border-radius: 0.25em;box-sizing: border-box;margin-bottom: 0.5em;}#sk-container-id-3 div.sk-estimator:hover {background-color: #d4ebff;}#sk-container-id-3 div.sk-parallel-item::after {content: \"\";width: 100%;border-bottom: 1px solid gray;flex-grow: 1;}#sk-container-id-3 div.sk-label:hover label.sk-toggleable__label {background-color: #d4ebff;}#sk-container-id-3 div.sk-serial::before {content: \"\";position: absolute;border-left: 1px solid gray;box-sizing: border-box;top: 0;bottom: 0;left: 50%;z-index: 0;}#sk-container-id-3 div.sk-serial {display: flex;flex-direction: column;align-items: center;background-color: white;padding-right: 0.2em;padding-left: 0.2em;position: relative;}#sk-container-id-3 div.sk-item {position: relative;z-index: 1;}#sk-container-id-3 div.sk-parallel {display: flex;align-items: stretch;justify-content: center;background-color: white;position: relative;}#sk-container-id-3 div.sk-item::before, #sk-container-id-3 div.sk-parallel-item::before {content: \"\";position: absolute;border-left: 1px solid gray;box-sizing: border-box;top: 0;bottom: 0;left: 50%;z-index: -1;}#sk-container-id-3 div.sk-parallel-item {display: flex;flex-direction: column;z-index: 1;position: relative;background-color: white;}#sk-container-id-3 div.sk-parallel-item:first-child::after {align-self: flex-end;width: 50%;}#sk-container-id-3 div.sk-parallel-item:last-child::after {align-self: flex-start;width: 50%;}#sk-container-id-3 div.sk-parallel-item:only-child::after {width: 0;}#sk-container-id-3 div.sk-dashed-wrapped {border: 1px dashed gray;margin: 0 0.4em 0.5em 0.4em;box-sizing: border-box;padding-bottom: 0.4em;background-color: white;}#sk-container-id-3 div.sk-label label {font-family: monospace;font-weight: bold;display: inline-block;line-height: 1.2em;}#sk-container-id-3 div.sk-label-container {text-align: center;}#sk-container-id-3 div.sk-container {/* jupyter's `normalize.less` sets `[hidden] { display: none; }` but bootstrap.min.css set `[hidden] { display: none !important; }` so we also need the `!important` here to be able to override the default hidden behavior on the sphinx rendered scikit-learn.org. See: https://github.com/scikit-learn/scikit-learn/issues/21755 */display: inline-block !important;position: relative;}#sk-container-id-3 div.sk-text-repr-fallback {display: none;}</style><div id=\"sk-container-id-3\" class=\"sk-top-container\"><div class=\"sk-text-repr-fallback\"><pre>RFFPipeline(classifier=&#x27;svm&#x27;)</pre><b>In a Jupyter environment, please rerun this cell to show the HTML representation or trust the notebook. <br />On GitHub, the HTML representation is unable to render, please try loading this page with nbviewer.org.</b></div><div class=\"sk-container\" hidden><div class=\"sk-item\"><div class=\"sk-estimator sk-toggleable\"><input class=\"sk-toggleable__control sk-hidden--visually\" id=\"sk-estimator-id-3\" type=\"checkbox\" checked><label for=\"sk-estimator-id-3\" class=\"sk-toggleable__label sk-toggleable__label-arrow\">RFFPipeline</label><div class=\"sk-toggleable__content\"><pre>RFFPipeline(classifier=&#x27;svm&#x27;)</pre></div></div></div></div></div>"
      ],
      "text/plain": [
       "RFFPipeline(classifier='svm')"
      ]
     },
     "execution_count": 22,
     "metadata": {},
     "output_type": "execute_result"
    }
   ],
   "source": [
    "model_linreg_PCA.fit(X_train, Y_train)\n",
    "model_svm_PCA.fit(X_train, Y_train)"
   ]
  },
  {
   "cell_type": "code",
   "execution_count": 23,
   "metadata": {},
   "outputs": [
    {
     "name": "stderr",
     "output_type": "stream",
     "text": [
      "c:\\Users\\maxxi\\AppData\\Local\\Programs\\Python\\Python311\\Lib\\site-packages\\sklearn\\linear_model\\_logistic.py:460: ConvergenceWarning: lbfgs failed to converge (status=1):\n",
      "STOP: TOTAL NO. of ITERATIONS REACHED LIMIT.\n",
      "\n",
      "Increase the number of iterations (max_iter) or scale the data as shown in:\n",
      "    https://scikit-learn.org/stable/modules/preprocessing.html\n",
      "Please also refer to the documentation for alternative solver options:\n",
      "    https://scikit-learn.org/stable/modules/linear_model.html#logistic-regression\n",
      "  n_iter_i = _check_optimize_result(\n",
      "c:\\Users\\maxxi\\AppData\\Local\\Programs\\Python\\Python311\\Lib\\site-packages\\sklearn\\svm\\_base.py:297: ConvergenceWarning: Solver terminated early (max_iter=10000).  Consider pre-processing your data with StandardScaler or MinMaxScaler.\n",
      "  warnings.warn(\n"
     ]
    },
    {
     "data": {
      "text/html": [
       "<style>#sk-container-id-4 {color: black;}#sk-container-id-4 pre{padding: 0;}#sk-container-id-4 div.sk-toggleable {background-color: white;}#sk-container-id-4 label.sk-toggleable__label {cursor: pointer;display: block;width: 100%;margin-bottom: 0;padding: 0.3em;box-sizing: border-box;text-align: center;}#sk-container-id-4 label.sk-toggleable__label-arrow:before {content: \"▸\";float: left;margin-right: 0.25em;color: #696969;}#sk-container-id-4 label.sk-toggleable__label-arrow:hover:before {color: black;}#sk-container-id-4 div.sk-estimator:hover label.sk-toggleable__label-arrow:before {color: black;}#sk-container-id-4 div.sk-toggleable__content {max-height: 0;max-width: 0;overflow: hidden;text-align: left;background-color: #f0f8ff;}#sk-container-id-4 div.sk-toggleable__content pre {margin: 0.2em;color: black;border-radius: 0.25em;background-color: #f0f8ff;}#sk-container-id-4 input.sk-toggleable__control:checked~div.sk-toggleable__content {max-height: 200px;max-width: 100%;overflow: auto;}#sk-container-id-4 input.sk-toggleable__control:checked~label.sk-toggleable__label-arrow:before {content: \"▾\";}#sk-container-id-4 div.sk-estimator input.sk-toggleable__control:checked~label.sk-toggleable__label {background-color: #d4ebff;}#sk-container-id-4 div.sk-label input.sk-toggleable__control:checked~label.sk-toggleable__label {background-color: #d4ebff;}#sk-container-id-4 input.sk-hidden--visually {border: 0;clip: rect(1px 1px 1px 1px);clip: rect(1px, 1px, 1px, 1px);height: 1px;margin: -1px;overflow: hidden;padding: 0;position: absolute;width: 1px;}#sk-container-id-4 div.sk-estimator {font-family: monospace;background-color: #f0f8ff;border: 1px dotted black;border-radius: 0.25em;box-sizing: border-box;margin-bottom: 0.5em;}#sk-container-id-4 div.sk-estimator:hover {background-color: #d4ebff;}#sk-container-id-4 div.sk-parallel-item::after {content: \"\";width: 100%;border-bottom: 1px solid gray;flex-grow: 1;}#sk-container-id-4 div.sk-label:hover label.sk-toggleable__label {background-color: #d4ebff;}#sk-container-id-4 div.sk-serial::before {content: \"\";position: absolute;border-left: 1px solid gray;box-sizing: border-box;top: 0;bottom: 0;left: 50%;z-index: 0;}#sk-container-id-4 div.sk-serial {display: flex;flex-direction: column;align-items: center;background-color: white;padding-right: 0.2em;padding-left: 0.2em;position: relative;}#sk-container-id-4 div.sk-item {position: relative;z-index: 1;}#sk-container-id-4 div.sk-parallel {display: flex;align-items: stretch;justify-content: center;background-color: white;position: relative;}#sk-container-id-4 div.sk-item::before, #sk-container-id-4 div.sk-parallel-item::before {content: \"\";position: absolute;border-left: 1px solid gray;box-sizing: border-box;top: 0;bottom: 0;left: 50%;z-index: -1;}#sk-container-id-4 div.sk-parallel-item {display: flex;flex-direction: column;z-index: 1;position: relative;background-color: white;}#sk-container-id-4 div.sk-parallel-item:first-child::after {align-self: flex-end;width: 50%;}#sk-container-id-4 div.sk-parallel-item:last-child::after {align-self: flex-start;width: 50%;}#sk-container-id-4 div.sk-parallel-item:only-child::after {width: 0;}#sk-container-id-4 div.sk-dashed-wrapped {border: 1px dashed gray;margin: 0 0.4em 0.5em 0.4em;box-sizing: border-box;padding-bottom: 0.4em;background-color: white;}#sk-container-id-4 div.sk-label label {font-family: monospace;font-weight: bold;display: inline-block;line-height: 1.2em;}#sk-container-id-4 div.sk-label-container {text-align: center;}#sk-container-id-4 div.sk-container {/* jupyter's `normalize.less` sets `[hidden] { display: none; }` but bootstrap.min.css set `[hidden] { display: none !important; }` so we also need the `!important` here to be able to override the default hidden behavior on the sphinx rendered scikit-learn.org. See: https://github.com/scikit-learn/scikit-learn/issues/21755 */display: inline-block !important;position: relative;}#sk-container-id-4 div.sk-text-repr-fallback {display: none;}</style><div id=\"sk-container-id-4\" class=\"sk-top-container\"><div class=\"sk-text-repr-fallback\"><pre>RFFPipeline(classifier=&#x27;svm&#x27;, use_PCA=False)</pre><b>In a Jupyter environment, please rerun this cell to show the HTML representation or trust the notebook. <br />On GitHub, the HTML representation is unable to render, please try loading this page with nbviewer.org.</b></div><div class=\"sk-container\" hidden><div class=\"sk-item\"><div class=\"sk-estimator sk-toggleable\"><input class=\"sk-toggleable__control sk-hidden--visually\" id=\"sk-estimator-id-4\" type=\"checkbox\" checked><label for=\"sk-estimator-id-4\" class=\"sk-toggleable__label sk-toggleable__label-arrow\">RFFPipeline</label><div class=\"sk-toggleable__content\"><pre>RFFPipeline(classifier=&#x27;svm&#x27;, use_PCA=False)</pre></div></div></div></div></div>"
      ],
      "text/plain": [
       "RFFPipeline(classifier='svm', use_PCA=False)"
      ]
     },
     "execution_count": 23,
     "metadata": {},
     "output_type": "execute_result"
    }
   ],
   "source": [
    "model_linreg.fit(X_train, Y_train)\n",
    "model_svm.fit(X_train, Y_train)"
   ]
  },
  {
   "cell_type": "code",
   "execution_count": 24,
   "metadata": {},
   "outputs": [],
   "source": [
    "predict_linreg_PCA = model_linreg_PCA.predict(X_test)\n",
    "predict_svm_PCA = model_svm_PCA.predict(X_test)\n",
    "\n",
    "predict_linreg = model_linreg.predict(X_test)\n",
    "predict_svm = model_svm.predict(X_test)"
   ]
  },
  {
   "cell_type": "code",
   "execution_count": 25,
   "metadata": {},
   "outputs": [
    {
     "name": "stdout",
     "output_type": "stream",
     "text": [
      "RFF SVM accuracy with PCA : 0.8804333333333333\n",
      "RFF Logreg accuracy with PCA : 0.8802666666666666\n",
      "RFF SVM accuracy without PCA : 0.8650333333333333\n",
      "RFF Logreg accuracy without PCA : 0.8667333333333334\n"
     ]
    }
   ],
   "source": [
    "print(\"RFF SVM accuracy with PCA :\", metrics.accuracy_score(Y_test, predict_svm_PCA))\n",
    "print(\"RFF Logreg accuracy with PCA :\", metrics.accuracy_score(Y_test, predict_linreg_PCA))\n",
    "print(\"RFF SVM accuracy without PCA :\", metrics.accuracy_score(Y_test, predict_svm))\n",
    "print(\"RFF Logreg accuracy without PCA :\", metrics.accuracy_score(Y_test, predict_linreg))"
   ]
  },
  {
   "cell_type": "markdown",
   "metadata": {},
   "source": [
    "__UNSCALED RAW__\n",
    "\n",
    "Unscaled linear SVM accuracy : 0.7414333333333334\n",
    "\n",
    "Unscaled rbf SVM accuracy : 0.8804333333333333\n",
    "\n",
    "Unscaled Logreg accuracy : 0.8293666666666667\n",
    "\n",
    "__SCALED RAW__\n",
    "\n",
    "Scaled linear SVM accuracy : 0.7573666666666666\n",
    "\n",
    "Scaled rbf SVM accuracy : 0.8815\n",
    "\n",
    "Scaled Logreg accuracy : 0.8313666666666667\n",
    "\n",
    "__NEW FEATURES PCA (n_features = 250, new_dim = 50)__\n",
    "\n",
    "RFF SVM accuracy with PCA : 0.8673\n",
    "\n",
    "RFF Logreg accuracy with PCA : 0.8635333333333334\n",
    "\n",
    "__NEW FEATURES NO PCA (n_features = 250)__\n",
    "\n",
    "RFF SVM accuracy without PCA : 0.8473666666666667\n",
    "\n",
    "RFF Logreg accuracy without PCA : 0.8429666666666666\n",
    "\n",
    "__NEW FEATURES PCA (n_features = 1000, new_dim = 50)__\n",
    "\n",
    "RFF SVM accuracy with PCA : 0.8804333333333333\n",
    "\n",
    "RFF Logreg accuracy with PCA : 0.8802666666666666\n",
    "\n",
    "__NEW FEATURES NO PCA (n_features = 1000)__\n",
    "\n",
    "RFF SVM accuracy without PCA : 0.8650333333333333\n",
    "\n",
    "RFF Logreg accuracy without PCA : 0.8667333333333334"
   ]
  },
  {
   "cell_type": "markdown",
   "metadata": {},
   "source": [
    "Выводы? \n",
    "\n",
    "RFF + SVM очень похож по точности на RBF (radial basis function) SVM, что в целом и логично. Мы хорошо аппроксимируем ядро. По времени вроде все плюс минус одинаково. \n",
    "Забавно, что RFF + SVM дает такой же скор, как и unscaled RBF SVM, а наивысший скор у scaled RBF SVM\n",
    "\n",
    "Чистый (линейный) SVM и со скейлингом и без него работает очень плохо в сравнении с другими методами. Сложно построить разделяющую гиперплоскость для таких данных. \n",
    "\n",
    "Сразу можно увидеть, что PCA позволяет немного, но улучшить модель, добившись лишних сотых. \n",
    "На удивление логрег с RFF работает столь же точно, как и SVM + RFF, без RFF разница сильно заметна."
   ]
  },
  {
   "cell_type": "markdown",
   "metadata": {},
   "source": [
    "Время для CatBoost!"
   ]
  },
  {
   "cell_type": "code",
   "execution_count": 27,
   "metadata": {},
   "outputs": [],
   "source": [
    "import catboost as ctb\n",
    "import sklearn"
   ]
  },
  {
   "cell_type": "code",
   "execution_count": 34,
   "metadata": {},
   "outputs": [],
   "source": [
    "pca = decomposition.PCA(n_components=70)\n",
    "\n",
    "pca.fit(X_train) \n",
    "X_train_PCA = pca.transform(X_train)\n",
    "\n",
    "pca.fit(X_test) \n",
    "X_test_PCA = pca.transform(X_test)"
   ]
  },
  {
   "cell_type": "code",
   "execution_count": 35,
   "metadata": {},
   "outputs": [
    {
     "name": "stdout",
     "output_type": "stream",
     "text": [
      "0:\tlearn: 2.2840427\ttotal: 93ms\tremaining: 23.2s\n",
      "249:\tlearn: 0.8212714\ttotal: 24.1s\tremaining: 0us\n",
      "0:\tlearn: 2.2816037\ttotal: 98.3ms\tremaining: 24.5s\n",
      "249:\tlearn: 0.8357887\ttotal: 23.6s\tremaining: 0us\n",
      "0:\tlearn: 2.2783356\ttotal: 93.2ms\tremaining: 23.2s\n",
      "249:\tlearn: 0.8458624\ttotal: 25.9s\tremaining: 0us\n",
      "0:\tlearn: 2.2812901\ttotal: 93.3ms\tremaining: 23.2s\n",
      "249:\tlearn: 0.8272565\ttotal: 23.4s\tremaining: 0us\n",
      "0:\tlearn: 2.2785091\ttotal: 88.7ms\tremaining: 22.1s\n",
      "249:\tlearn: 0.8328208\ttotal: 23.4s\tremaining: 0us\n",
      "0:\tlearn: 2.2114291\ttotal: 91.3ms\tremaining: 22.7s\n",
      "249:\tlearn: 0.3360161\ttotal: 23.1s\tremaining: 0us\n",
      "0:\tlearn: 2.1994584\ttotal: 86.5ms\tremaining: 21.5s\n",
      "249:\tlearn: 0.3346184\ttotal: 23.4s\tremaining: 0us\n",
      "0:\tlearn: 2.1834413\ttotal: 89.1ms\tremaining: 22.2s\n",
      "249:\tlearn: 0.3419344\ttotal: 23.3s\tremaining: 0us\n",
      "0:\tlearn: 2.1978514\ttotal: 89.6ms\tremaining: 22.3s\n",
      "249:\tlearn: 0.3314665\ttotal: 23.4s\tremaining: 0us\n",
      "0:\tlearn: 2.1840822\ttotal: 91.9ms\tremaining: 22.9s\n",
      "249:\tlearn: 0.3228771\ttotal: 23.2s\tremaining: 0us\n",
      "0:\tlearn: 2.1245569\ttotal: 98.7ms\tremaining: 24.6s\n",
      "249:\tlearn: 0.1966106\ttotal: 23.2s\tremaining: 0us\n",
      "0:\tlearn: 2.1012006\ttotal: 88.2ms\tremaining: 21.9s\n",
      "249:\tlearn: 0.1982328\ttotal: 23.4s\tremaining: 0us\n",
      "0:\tlearn: 2.0701397\ttotal: 89.8ms\tremaining: 22.4s\n",
      "249:\tlearn: 0.2008655\ttotal: 23.1s\tremaining: 0us\n",
      "0:\tlearn: 2.0978534\ttotal: 90.9ms\tremaining: 22.6s\n",
      "249:\tlearn: 0.1947913\ttotal: 23.5s\tremaining: 0us\n",
      "0:\tlearn: 2.0708162\ttotal: 98.5ms\tremaining: 24.5s\n",
      "249:\tlearn: 0.1860367\ttotal: 26.2s\tremaining: 0us\n",
      "0:\tlearn: 2.2840427\ttotal: 122ms\tremaining: 1m\n",
      "499:\tlearn: 0.5875434\ttotal: 49.6s\tremaining: 0us\n",
      "0:\tlearn: 2.2816037\ttotal: 93ms\tremaining: 46.4s\n",
      "499:\tlearn: 0.5970993\ttotal: 49.2s\tremaining: 0us\n",
      "0:\tlearn: 2.2783356\ttotal: 95ms\tremaining: 47.4s\n",
      "499:\tlearn: 0.6045757\ttotal: 49.4s\tremaining: 0us\n",
      "0:\tlearn: 2.2812901\ttotal: 92.3ms\tremaining: 46.1s\n",
      "499:\tlearn: 0.5851923\ttotal: 49.5s\tremaining: 0us\n",
      "0:\tlearn: 2.2785091\ttotal: 102ms\tremaining: 50.7s\n",
      "499:\tlearn: 0.5900161\ttotal: 49.3s\tremaining: 0us\n",
      "0:\tlearn: 2.2114291\ttotal: 97.2ms\tremaining: 48.5s\n",
      "499:\tlearn: 0.1953802\ttotal: 48.8s\tremaining: 0us\n",
      "0:\tlearn: 2.1994584\ttotal: 94.7ms\tremaining: 47.3s\n",
      "499:\tlearn: 0.1998729\ttotal: 49.6s\tremaining: 0us\n",
      "0:\tlearn: 2.1834413\ttotal: 89.9ms\tremaining: 44.9s\n",
      "499:\tlearn: 0.2007462\ttotal: 49s\tremaining: 0us\n",
      "0:\tlearn: 2.1978514\ttotal: 90.3ms\tremaining: 45.1s\n",
      "499:\tlearn: 0.1916080\ttotal: 49.3s\tremaining: 0us\n",
      "0:\tlearn: 2.1840822\ttotal: 96.8ms\tremaining: 48.3s\n",
      "499:\tlearn: 0.1868246\ttotal: 49.2s\tremaining: 0us\n",
      "0:\tlearn: 2.1245569\ttotal: 89.9ms\tremaining: 44.8s\n",
      "499:\tlearn: 0.0908490\ttotal: 48.2s\tremaining: 0us\n",
      "0:\tlearn: 2.1012006\ttotal: 107ms\tremaining: 53.5s\n",
      "499:\tlearn: 0.0932089\ttotal: 48.4s\tremaining: 0us\n",
      "0:\tlearn: 2.0701397\ttotal: 93.2ms\tremaining: 46.5s\n",
      "499:\tlearn: 0.0931709\ttotal: 47.9s\tremaining: 0us\n",
      "0:\tlearn: 2.0978534\ttotal: 103ms\tremaining: 51.3s\n",
      "499:\tlearn: 0.0904840\ttotal: 47.9s\tremaining: 0us\n",
      "0:\tlearn: 2.0708162\ttotal: 95.3ms\tremaining: 47.5s\n",
      "499:\tlearn: 0.0878216\ttotal: 48.7s\tremaining: 0us\n",
      "0:\tlearn: 2.2840427\ttotal: 98.1ms\tremaining: 1m 38s\n",
      "999:\tlearn: 0.3838877\ttotal: 1m 37s\tremaining: 0us\n",
      "0:\tlearn: 2.2816037\ttotal: 102ms\tremaining: 1m 41s\n",
      "999:\tlearn: 0.3903868\ttotal: 1m 38s\tremaining: 0us\n",
      "0:\tlearn: 2.2783356\ttotal: 93.3ms\tremaining: 1m 33s\n",
      "999:\tlearn: 0.3977635\ttotal: 1m 38s\tremaining: 0us\n",
      "0:\tlearn: 2.2812901\ttotal: 98.3ms\tremaining: 1m 38s\n",
      "999:\tlearn: 0.3814190\ttotal: 1m 37s\tremaining: 0us\n",
      "0:\tlearn: 2.2785091\ttotal: 102ms\tremaining: 1m 42s\n",
      "999:\tlearn: 0.3820201\ttotal: 1m 39s\tremaining: 0us\n",
      "0:\tlearn: 2.2114291\ttotal: 92.5ms\tremaining: 1m 32s\n",
      "999:\tlearn: 0.0913365\ttotal: 1m 36s\tremaining: 0us\n",
      "0:\tlearn: 2.1994584\ttotal: 99.5ms\tremaining: 1m 39s\n",
      "999:\tlearn: 0.0928776\ttotal: 1m 36s\tremaining: 0us\n",
      "0:\tlearn: 2.1834413\ttotal: 91.9ms\tremaining: 1m 31s\n",
      "999:\tlearn: 0.0929958\ttotal: 1m 35s\tremaining: 0us\n",
      "0:\tlearn: 2.1978514\ttotal: 96.7ms\tremaining: 1m 36s\n",
      "999:\tlearn: 0.0907551\ttotal: 1m 35s\tremaining: 0us\n",
      "0:\tlearn: 2.1840822\ttotal: 93.1ms\tremaining: 1m 32s\n",
      "999:\tlearn: 0.0867723\ttotal: 1m 40s\tremaining: 0us\n",
      "0:\tlearn: 2.1245569\ttotal: 101ms\tremaining: 1m 40s\n",
      "999:\tlearn: 0.0334044\ttotal: 1m 45s\tremaining: 0us\n",
      "0:\tlearn: 2.1012006\ttotal: 96.6ms\tremaining: 1m 36s\n",
      "999:\tlearn: 0.0342154\ttotal: 1m 42s\tremaining: 0us\n",
      "0:\tlearn: 2.0701397\ttotal: 136ms\tremaining: 2m 16s\n",
      "999:\tlearn: 0.0344470\ttotal: 1m 40s\tremaining: 0us\n",
      "0:\tlearn: 2.0978534\ttotal: 93ms\tremaining: 1m 32s\n",
      "999:\tlearn: 0.0328312\ttotal: 1m 42s\tremaining: 0us\n",
      "0:\tlearn: 2.0708162\ttotal: 110ms\tremaining: 1m 50s\n",
      "999:\tlearn: 0.0311565\ttotal: 1m 43s\tremaining: 0us\n",
      "0:\tlearn: 2.0593055\ttotal: 101ms\tremaining: 1m 40s\n",
      "999:\tlearn: 0.0364839\ttotal: 1m 49s\tremaining: 0us\n"
     ]
    },
    {
     "ename": "AttributeError",
     "evalue": "'GridSearchCV' object has no attribute 'best_params'",
     "output_type": "error",
     "traceback": [
      "\u001b[1;31m---------------------------------------------------------------------------\u001b[0m",
      "\u001b[1;31mAttributeError\u001b[0m                            Traceback (most recent call last)",
      "Cell \u001b[1;32mIn[35], line 11\u001b[0m\n\u001b[0;32m      8\u001b[0m clf \u001b[38;5;241m=\u001b[39m sklearn\u001b[38;5;241m.\u001b[39mmodel_selection\u001b[38;5;241m.\u001b[39mGridSearchCV(model, param_grid, scoring\u001b[38;5;241m=\u001b[39m\u001b[38;5;124m'\u001b[39m\u001b[38;5;124maccuracy\u001b[39m\u001b[38;5;124m'\u001b[39m)\n\u001b[0;32m      9\u001b[0m clf\u001b[38;5;241m.\u001b[39mfit(X_train_PCA[:\u001b[38;5;241m3000\u001b[39m], Y_train[:\u001b[38;5;241m3000\u001b[39m])\n\u001b[1;32m---> 11\u001b[0m \u001b[43mclf\u001b[49m\u001b[38;5;241;43m.\u001b[39;49m\u001b[43mbest_params\u001b[49m\n",
      "\u001b[1;31mAttributeError\u001b[0m: 'GridSearchCV' object has no attribute 'best_params'"
     ]
    }
   ],
   "source": [
    "model = ctb.CatBoostClassifier(verbose=1000)\n",
    "\n",
    "param_grid = {\n",
    "    'iterations' : [250, 500, 1000],\n",
    "    'learning_rate' : [0.01, 0.05, 0.1]\n",
    "}\n",
    "\n",
    "clf = sklearn.model_selection.GridSearchCV(model, param_grid, scoring='accuracy')\n",
    "clf.fit(X_train_PCA[:3000], Y_train[:3000])\n",
    "\n",
    "clf.best_params"
   ]
  },
  {
   "cell_type": "code",
   "execution_count": 38,
   "metadata": {},
   "outputs": [
    {
     "data": {
      "text/plain": [
       "{'iterations': 1000, 'learning_rate': 0.1}"
      ]
     },
     "execution_count": 38,
     "metadata": {},
     "output_type": "execute_result"
    }
   ],
   "source": [
    "clf.best_params_"
   ]
  },
  {
   "cell_type": "code",
   "execution_count": 40,
   "metadata": {},
   "outputs": [
    {
     "name": "stdout",
     "output_type": "stream",
     "text": [
      "0:\tlearn: 1.9643246\ttotal: 188ms\tremaining: 3m 7s\n",
      "700:\tlearn: 0.1771013\ttotal: 2m 24s\tremaining: 1m 1s\n",
      "999:\tlearn: 0.1342620\ttotal: 3m 21s\tremaining: 0us\n"
     ]
    },
    {
     "data": {
      "text/plain": [
       "<catboost.core.CatBoostClassifier at 0x13eef25eed0>"
      ]
     },
     "execution_count": 40,
     "metadata": {},
     "output_type": "execute_result"
    }
   ],
   "source": [
    "model = ctb.CatBoostClassifier(iterations=1000, learning_rate=0.1, verbose=700)\n",
    "model.fit(X_train_PCA, Y_train)"
   ]
  },
  {
   "cell_type": "code",
   "execution_count": 41,
   "metadata": {},
   "outputs": [
    {
     "name": "stdout",
     "output_type": "stream",
     "text": [
      "GB accuracy with PCA (new_dim = 70): 0.3584333333333333\n"
     ]
    }
   ],
   "source": [
    "catboost_prediction = model.predict(X_test_PCA)\n",
    "\n",
    "print(\"GB accuracy with PCA (new_dim = 70):\", metrics.accuracy_score(Y_test, catboost_prediction))"
   ]
  },
  {
   "cell_type": "markdown",
   "metadata": {},
   "source": [
    "Бустинг дал слишком низкий скор, это может быть связано с маленьким количеством фич после PCA, или с чем либо другим, времени проверить досконально не остается:("
   ]
  },
  {
   "cell_type": "markdown",
   "metadata": {
    "id": "e6umjhWuK-hV"
   },
   "source": [
    "__Задание 3. (2 балла)__\n",
    "\n",
    "Проведите эксперименты:\n",
    "1. Помогает ли предварительное понижение размерности с помощью PCA? \n",
    "2. Как зависит итоговое качество от n_features? Выходит ли оно на плато при росте n_features?\n",
    "3. Важно ли, какую модель обучать — логистическую регрессию или SVM?"
   ]
  },
  {
   "cell_type": "markdown",
   "metadata": {},
   "source": [
    "Создадим сразу несколько моделей и протестируем их accuracy score"
   ]
  },
  {
   "cell_type": "code",
   "execution_count": 10,
   "metadata": {
    "id": "c2QIHIMbK-hW"
   },
   "outputs": [
    {
     "name": "stderr",
     "output_type": "stream",
     "text": [
      "c:\\Users\\maxxi\\AppData\\Local\\Programs\\Python\\Python311\\Lib\\site-packages\\sklearn\\svm\\_base.py:297: ConvergenceWarning: Solver terminated early (max_iter=10000).  Consider pre-processing your data with StandardScaler or MinMaxScaler.\n",
      "  warnings.warn(\n",
      "c:\\Users\\maxxi\\AppData\\Local\\Programs\\Python\\Python311\\Lib\\site-packages\\sklearn\\svm\\_base.py:297: ConvergenceWarning: Solver terminated early (max_iter=10000).  Consider pre-processing your data with StandardScaler or MinMaxScaler.\n",
      "  warnings.warn(\n"
     ]
    },
    {
     "name": "stdout",
     "output_type": "stream",
     "text": [
      "n_features = 100  0.8548333333333333\n",
      "n_features = 500  0.8782916666666667\n"
     ]
    }
   ],
   "source": [
    "# Your code here: (￣▽￣)/♫•*¨*•.¸¸♪\n",
    "\n",
    "# Протестируем влияние разного количеств фич на SVM \n",
    "model_svm_100 = RFFPipeline(classifier='svm', n_features=100)\n",
    "model_svm_500 = RFFPipeline(classifier='svm', n_features=500)\n",
    "\n",
    "model_svm_100.fit(X_train, Y_train)\n",
    "model_svm_500.fit(X_train, Y_train)\n",
    "\n",
    "y_100 = model_svm_100.predict(X_test)\n",
    "y_500 = model_svm_500.predict(X_test)\n",
    "\n",
    "print(\"n_features = 100 \",metrics.accuracy_score(Y_test, y_100))\n",
    "print(\"n_features = 500 \",metrics.accuracy_score(Y_test, y_500))"
   ]
  },
  {
   "cell_type": "code",
   "execution_count": 11,
   "metadata": {},
   "outputs": [
    {
     "name": "stderr",
     "output_type": "stream",
     "text": [
      "c:\\Users\\maxxi\\AppData\\Local\\Programs\\Python\\Python311\\Lib\\site-packages\\sklearn\\svm\\_base.py:297: ConvergenceWarning: Solver terminated early (max_iter=10000).  Consider pre-processing your data with StandardScaler or MinMaxScaler.\n",
      "  warnings.warn(\n"
     ]
    },
    {
     "name": "stdout",
     "output_type": "stream",
     "text": [
      "n_features = 2000  0.88\n"
     ]
    }
   ],
   "source": [
    "model_svm_2000 = RFFPipeline(classifier='svm', n_features=2000)\n",
    "model_svm_2000.fit(X_train, Y_train)\n",
    "\n",
    "y_2000 = model_svm_2000.predict(X_test)\n",
    "\n",
    "print(\"n_features = 2000 \",metrics.accuracy_score(Y_test, y_2000))"
   ]
  },
  {
   "cell_type": "code",
   "execution_count": 8,
   "metadata": {},
   "outputs": [
    {
     "name": "stdout",
     "output_type": "stream",
     "text": [
      "classifier:  svm \n",
      " n_features:  100\n"
     ]
    },
    {
     "name": "stderr",
     "output_type": "stream",
     "text": [
      "c:\\Users\\maxxi\\AppData\\Local\\Programs\\Python\\Python311\\Lib\\site-packages\\sklearn\\svm\\_base.py:297: ConvergenceWarning: Solver terminated early (max_iter=10000).  Consider pre-processing your data with StandardScaler or MinMaxScaler.\n",
      "  warnings.warn(\n"
     ]
    },
    {
     "name": "stdout",
     "output_type": "stream",
     "text": [
      "classifier:  logreg \n",
      " n_features:  100\n"
     ]
    },
    {
     "name": "stderr",
     "output_type": "stream",
     "text": [
      "c:\\Users\\maxxi\\AppData\\Local\\Programs\\Python\\Python311\\Lib\\site-packages\\sklearn\\linear_model\\_logistic.py:460: ConvergenceWarning: lbfgs failed to converge (status=1):\n",
      "STOP: TOTAL NO. of ITERATIONS REACHED LIMIT.\n",
      "\n",
      "Increase the number of iterations (max_iter) or scale the data as shown in:\n",
      "    https://scikit-learn.org/stable/modules/preprocessing.html\n",
      "Please also refer to the documentation for alternative solver options:\n",
      "    https://scikit-learn.org/stable/modules/linear_model.html#logistic-regression\n",
      "  n_iter_i = _check_optimize_result(\n"
     ]
    },
    {
     "name": "stdout",
     "output_type": "stream",
     "text": [
      "classifier:  svm \n",
      " n_features:  250\n"
     ]
    },
    {
     "name": "stderr",
     "output_type": "stream",
     "text": [
      "c:\\Users\\maxxi\\AppData\\Local\\Programs\\Python\\Python311\\Lib\\site-packages\\sklearn\\svm\\_base.py:297: ConvergenceWarning: Solver terminated early (max_iter=10000).  Consider pre-processing your data with StandardScaler or MinMaxScaler.\n",
      "  warnings.warn(\n"
     ]
    },
    {
     "name": "stdout",
     "output_type": "stream",
     "text": [
      "classifier:  logreg \n",
      " n_features:  250\n"
     ]
    },
    {
     "name": "stderr",
     "output_type": "stream",
     "text": [
      "c:\\Users\\maxxi\\AppData\\Local\\Programs\\Python\\Python311\\Lib\\site-packages\\sklearn\\linear_model\\_logistic.py:460: ConvergenceWarning: lbfgs failed to converge (status=1):\n",
      "STOP: TOTAL NO. of ITERATIONS REACHED LIMIT.\n",
      "\n",
      "Increase the number of iterations (max_iter) or scale the data as shown in:\n",
      "    https://scikit-learn.org/stable/modules/preprocessing.html\n",
      "Please also refer to the documentation for alternative solver options:\n",
      "    https://scikit-learn.org/stable/modules/linear_model.html#logistic-regression\n",
      "  n_iter_i = _check_optimize_result(\n"
     ]
    },
    {
     "name": "stdout",
     "output_type": "stream",
     "text": [
      "classifier:  svm \n",
      " n_features:  500\n"
     ]
    },
    {
     "name": "stderr",
     "output_type": "stream",
     "text": [
      "c:\\Users\\maxxi\\AppData\\Local\\Programs\\Python\\Python311\\Lib\\site-packages\\sklearn\\svm\\_base.py:297: ConvergenceWarning: Solver terminated early (max_iter=10000).  Consider pre-processing your data with StandardScaler or MinMaxScaler.\n",
      "  warnings.warn(\n"
     ]
    },
    {
     "name": "stdout",
     "output_type": "stream",
     "text": [
      "classifier:  logreg \n",
      " n_features:  500\n"
     ]
    },
    {
     "name": "stderr",
     "output_type": "stream",
     "text": [
      "c:\\Users\\maxxi\\AppData\\Local\\Programs\\Python\\Python311\\Lib\\site-packages\\sklearn\\linear_model\\_logistic.py:460: ConvergenceWarning: lbfgs failed to converge (status=1):\n",
      "STOP: TOTAL NO. of ITERATIONS REACHED LIMIT.\n",
      "\n",
      "Increase the number of iterations (max_iter) or scale the data as shown in:\n",
      "    https://scikit-learn.org/stable/modules/preprocessing.html\n",
      "Please also refer to the documentation for alternative solver options:\n",
      "    https://scikit-learn.org/stable/modules/linear_model.html#logistic-regression\n",
      "  n_iter_i = _check_optimize_result(\n"
     ]
    },
    {
     "name": "stdout",
     "output_type": "stream",
     "text": [
      "classifier:  svm \n",
      " n_features:  1000\n"
     ]
    },
    {
     "name": "stderr",
     "output_type": "stream",
     "text": [
      "c:\\Users\\maxxi\\AppData\\Local\\Programs\\Python\\Python311\\Lib\\site-packages\\sklearn\\svm\\_base.py:297: ConvergenceWarning: Solver terminated early (max_iter=10000).  Consider pre-processing your data with StandardScaler or MinMaxScaler.\n",
      "  warnings.warn(\n"
     ]
    },
    {
     "name": "stdout",
     "output_type": "stream",
     "text": [
      "classifier:  logreg \n",
      " n_features:  1000\n"
     ]
    },
    {
     "name": "stderr",
     "output_type": "stream",
     "text": [
      "c:\\Users\\maxxi\\AppData\\Local\\Programs\\Python\\Python311\\Lib\\site-packages\\sklearn\\linear_model\\_logistic.py:460: ConvergenceWarning: lbfgs failed to converge (status=1):\n",
      "STOP: TOTAL NO. of ITERATIONS REACHED LIMIT.\n",
      "\n",
      "Increase the number of iterations (max_iter) or scale the data as shown in:\n",
      "    https://scikit-learn.org/stable/modules/preprocessing.html\n",
      "Please also refer to the documentation for alternative solver options:\n",
      "    https://scikit-learn.org/stable/modules/linear_model.html#logistic-regression\n",
      "  n_iter_i = _check_optimize_result(\n"
     ]
    },
    {
     "name": "stdout",
     "output_type": "stream",
     "text": [
      "classifier:  svm \n",
      " n_features:  1250\n"
     ]
    },
    {
     "name": "stderr",
     "output_type": "stream",
     "text": [
      "c:\\Users\\maxxi\\AppData\\Local\\Programs\\Python\\Python311\\Lib\\site-packages\\sklearn\\svm\\_base.py:297: ConvergenceWarning: Solver terminated early (max_iter=10000).  Consider pre-processing your data with StandardScaler or MinMaxScaler.\n",
      "  warnings.warn(\n"
     ]
    },
    {
     "name": "stdout",
     "output_type": "stream",
     "text": [
      "classifier:  logreg \n",
      " n_features:  1250\n"
     ]
    },
    {
     "name": "stderr",
     "output_type": "stream",
     "text": [
      "c:\\Users\\maxxi\\AppData\\Local\\Programs\\Python\\Python311\\Lib\\site-packages\\sklearn\\linear_model\\_logistic.py:460: ConvergenceWarning: lbfgs failed to converge (status=1):\n",
      "STOP: TOTAL NO. of ITERATIONS REACHED LIMIT.\n",
      "\n",
      "Increase the number of iterations (max_iter) or scale the data as shown in:\n",
      "    https://scikit-learn.org/stable/modules/preprocessing.html\n",
      "Please also refer to the documentation for alternative solver options:\n",
      "    https://scikit-learn.org/stable/modules/linear_model.html#logistic-regression\n",
      "  n_iter_i = _check_optimize_result(\n"
     ]
    },
    {
     "name": "stdout",
     "output_type": "stream",
     "text": [
      "classifier:  svm \n",
      " n_features:  1700\n"
     ]
    },
    {
     "name": "stderr",
     "output_type": "stream",
     "text": [
      "c:\\Users\\maxxi\\AppData\\Local\\Programs\\Python\\Python311\\Lib\\site-packages\\sklearn\\svm\\_base.py:297: ConvergenceWarning: Solver terminated early (max_iter=10000).  Consider pre-processing your data with StandardScaler or MinMaxScaler.\n",
      "  warnings.warn(\n"
     ]
    },
    {
     "name": "stdout",
     "output_type": "stream",
     "text": [
      "classifier:  logreg \n",
      " n_features:  1700\n"
     ]
    },
    {
     "name": "stderr",
     "output_type": "stream",
     "text": [
      "c:\\Users\\maxxi\\AppData\\Local\\Programs\\Python\\Python311\\Lib\\site-packages\\sklearn\\linear_model\\_logistic.py:460: ConvergenceWarning: lbfgs failed to converge (status=1):\n",
      "STOP: TOTAL NO. of ITERATIONS REACHED LIMIT.\n",
      "\n",
      "Increase the number of iterations (max_iter) or scale the data as shown in:\n",
      "    https://scikit-learn.org/stable/modules/preprocessing.html\n",
      "Please also refer to the documentation for alternative solver options:\n",
      "    https://scikit-learn.org/stable/modules/linear_model.html#logistic-regression\n",
      "  n_iter_i = _check_optimize_result(\n"
     ]
    },
    {
     "name": "stdout",
     "output_type": "stream",
     "text": [
      "classifier:  svm \n",
      " n_features:  2000\n"
     ]
    },
    {
     "name": "stderr",
     "output_type": "stream",
     "text": [
      "c:\\Users\\maxxi\\AppData\\Local\\Programs\\Python\\Python311\\Lib\\site-packages\\sklearn\\svm\\_base.py:297: ConvergenceWarning: Solver terminated early (max_iter=10000).  Consider pre-processing your data with StandardScaler or MinMaxScaler.\n",
      "  warnings.warn(\n"
     ]
    },
    {
     "name": "stdout",
     "output_type": "stream",
     "text": [
      "classifier:  logreg \n",
      " n_features:  2000\n"
     ]
    },
    {
     "name": "stderr",
     "output_type": "stream",
     "text": [
      "c:\\Users\\maxxi\\AppData\\Local\\Programs\\Python\\Python311\\Lib\\site-packages\\sklearn\\linear_model\\_logistic.py:460: ConvergenceWarning: lbfgs failed to converge (status=1):\n",
      "STOP: TOTAL NO. of ITERATIONS REACHED LIMIT.\n",
      "\n",
      "Increase the number of iterations (max_iter) or scale the data as shown in:\n",
      "    https://scikit-learn.org/stable/modules/preprocessing.html\n",
      "Please also refer to the documentation for alternative solver options:\n",
      "    https://scikit-learn.org/stable/modules/linear_model.html#logistic-regression\n",
      "  n_iter_i = _check_optimize_result(\n"
     ]
    },
    {
     "name": "stdout",
     "output_type": "stream",
     "text": [
      "[0.8543333333333333, 0.873375, 0.8784583333333333, 0.8829166666666667, 0.883875, 0.8776666666666667, 0.8814583333333333]\n",
      "[0.8435833333333334, 0.8669583333333334, 0.8745416666666667, 0.8797916666666666, 0.8830833333333333, 0.887375, 0.8883333333333333]\n"
     ]
    }
   ],
   "source": [
    "n_features_array = [100, 250, 500, 1000, 1250, 1700, 2000]\n",
    "classifier_array = ['svm', 'logreg']\n",
    "\n",
    "svm_accuracy = []\n",
    "logreg_accuracy = []\n",
    "\n",
    "for element_1 in n_features_array:\n",
    "    for element_2 in classifier_array:\n",
    "        print(\"classifier: \", element_2, '\\n', 'n_features: ', element_1)\n",
    "        model = RFFPipeline(classifier=element_2, n_features=element_1)\n",
    "        model.fit(X_train, Y_train)\n",
    "        prediction = model.predict(X_test)\n",
    "        accuracy = metrics.accuracy_score(Y_test, prediction)\n",
    "        if element_2 == 'svm':\n",
    "            svm_accuracy.append(accuracy)\n",
    "        else:\n",
    "            logreg_accuracy.append(accuracy)\n",
    "\n",
    "print(svm_accuracy)\n",
    "print(logreg_accuracy)"
   ]
  },
  {
   "cell_type": "code",
   "execution_count": 32,
   "metadata": {},
   "outputs": [],
   "source": [
    "n_features_array = [100, 250, 500, 1000, 1250, 1700, 2000]\n",
    "svm_accuracy = [0.8543333333333333, 0.873375, 0.8784583333333333, 0.8829166666666667, 0.883875, 0.8776666666666667, 0.8814583333333333]\n",
    "logreg_accuracy = [0.8435833333333334, 0.8669583333333334, 0.8745416666666667, 0.8797916666666666, 0.8830833333333333, 0.887375, 0.8883333333333333]"
   ]
  },
  {
   "cell_type": "code",
   "execution_count": 43,
   "metadata": {},
   "outputs": [],
   "source": [
    "accuracy_data = np.array([n_features_array, svm_accuracy, logreg_accuracy]).T\n",
    "\n",
    "accuracy_data = pd.DataFrame(accuracy_data, columns=['n_features', 'svm', 'logreg'])"
   ]
  },
  {
   "cell_type": "code",
   "execution_count": 44,
   "metadata": {},
   "outputs": [
    {
     "data": {
      "text/html": [
       "<div>\n",
       "<style scoped>\n",
       "    .dataframe tbody tr th:only-of-type {\n",
       "        vertical-align: middle;\n",
       "    }\n",
       "\n",
       "    .dataframe tbody tr th {\n",
       "        vertical-align: top;\n",
       "    }\n",
       "\n",
       "    .dataframe thead th {\n",
       "        text-align: right;\n",
       "    }\n",
       "</style>\n",
       "<table border=\"1\" class=\"dataframe\">\n",
       "  <thead>\n",
       "    <tr style=\"text-align: right;\">\n",
       "      <th></th>\n",
       "      <th>n_features</th>\n",
       "      <th>svm</th>\n",
       "      <th>logreg</th>\n",
       "    </tr>\n",
       "  </thead>\n",
       "  <tbody>\n",
       "    <tr>\n",
       "      <th>0</th>\n",
       "      <td>100.0</td>\n",
       "      <td>0.854333</td>\n",
       "      <td>0.843583</td>\n",
       "    </tr>\n",
       "    <tr>\n",
       "      <th>1</th>\n",
       "      <td>250.0</td>\n",
       "      <td>0.873375</td>\n",
       "      <td>0.866958</td>\n",
       "    </tr>\n",
       "    <tr>\n",
       "      <th>2</th>\n",
       "      <td>500.0</td>\n",
       "      <td>0.878458</td>\n",
       "      <td>0.874542</td>\n",
       "    </tr>\n",
       "    <tr>\n",
       "      <th>3</th>\n",
       "      <td>1000.0</td>\n",
       "      <td>0.882917</td>\n",
       "      <td>0.879792</td>\n",
       "    </tr>\n",
       "    <tr>\n",
       "      <th>4</th>\n",
       "      <td>1250.0</td>\n",
       "      <td>0.883875</td>\n",
       "      <td>0.883083</td>\n",
       "    </tr>\n",
       "    <tr>\n",
       "      <th>5</th>\n",
       "      <td>1700.0</td>\n",
       "      <td>0.877667</td>\n",
       "      <td>0.887375</td>\n",
       "    </tr>\n",
       "    <tr>\n",
       "      <th>6</th>\n",
       "      <td>2000.0</td>\n",
       "      <td>0.881458</td>\n",
       "      <td>0.888333</td>\n",
       "    </tr>\n",
       "  </tbody>\n",
       "</table>\n",
       "</div>"
      ],
      "text/plain": [
       "   n_features       svm    logreg\n",
       "0       100.0  0.854333  0.843583\n",
       "1       250.0  0.873375  0.866958\n",
       "2       500.0  0.878458  0.874542\n",
       "3      1000.0  0.882917  0.879792\n",
       "4      1250.0  0.883875  0.883083\n",
       "5      1700.0  0.877667  0.887375\n",
       "6      2000.0  0.881458  0.888333"
      ]
     },
     "execution_count": 44,
     "metadata": {},
     "output_type": "execute_result"
    }
   ],
   "source": [
    "accuracy_data"
   ]
  },
  {
   "cell_type": "code",
   "execution_count": 12,
   "metadata": {},
   "outputs": [],
   "source": [
    "import seaborn as sns\n",
    "import matplotlib.pyplot as plt"
   ]
  },
  {
   "cell_type": "code",
   "execution_count": 36,
   "metadata": {},
   "outputs": [
    {
     "data": {
      "text/plain": [
       "<matplotlib.legend.Legend at 0x23b208e18d0>"
      ]
     },
     "execution_count": 36,
     "metadata": {},
     "output_type": "execute_result"
    },
    {
     "data": {
      "image/png": "[encoded data removed]",
      "text/plain": [
       "<Figure size 640x480 with 1 Axes>"
      ]
     },
     "metadata": {},
     "output_type": "display_data"
    }
   ],
   "source": [
    "sns.lineplot(x='n_features',\n",
    "            y='svm',\n",
    "            data=accuracy_data,\n",
    "            #label='svm',\n",
    "            lw=3)\n",
    "sns.lineplot(x='n_features',\n",
    "            y='logreg',\n",
    "            data=accuracy_data,\n",
    "            color='r',\n",
    "            #label='logreg',\n",
    "            lw=3)\n",
    "\n",
    "plt.xlabel('n_features')\n",
    "plt.ylabel('accuracy')\n",
    "plt.legend(labels=['svm', 'logreg'] ,title='Model')\n"
   ]
  },
  {
   "cell_type": "markdown",
   "metadata": {},
   "source": [
    "__Ремарка__\n",
    "\n",
    "Я не рискнул тестировать на n_features более 2000, так как время выполнения уже на 2000 тысячах превышает 20 минут. \n",
    "\n",
    "Однако, на данной выборке параметров n_features видно резкий подъем где-то до 1250 фич, а дальше плюс минус стабильно"
   ]
  },
  {
   "cell_type": "markdown",
   "metadata": {},
   "source": [
    "Теперь попробую поменять значения PCA разложения с константным количеством n_features (250)"
   ]
  },
  {
   "cell_type": "code",
   "execution_count": 9,
   "metadata": {},
   "outputs": [
    {
     "name": "stdout",
     "output_type": "stream",
     "text": [
      "classifier:  svm \n",
      " new_dim:  50\n"
     ]
    },
    {
     "name": "stderr",
     "output_type": "stream",
     "text": [
      "c:\\Users\\maxxi\\AppData\\Local\\Programs\\Python\\Python311\\Lib\\site-packages\\sklearn\\svm\\_base.py:297: ConvergenceWarning: Solver terminated early (max_iter=10000).  Consider pre-processing your data with StandardScaler or MinMaxScaler.\n",
      "  warnings.warn(\n"
     ]
    },
    {
     "name": "stdout",
     "output_type": "stream",
     "text": [
      "classifier:  logreg \n",
      " new_dim:  50\n"
     ]
    },
    {
     "name": "stderr",
     "output_type": "stream",
     "text": [
      "c:\\Users\\maxxi\\AppData\\Local\\Programs\\Python\\Python311\\Lib\\site-packages\\sklearn\\linear_model\\_logistic.py:460: ConvergenceWarning: lbfgs failed to converge (status=1):\n",
      "STOP: TOTAL NO. of ITERATIONS REACHED LIMIT.\n",
      "\n",
      "Increase the number of iterations (max_iter) or scale the data as shown in:\n",
      "    https://scikit-learn.org/stable/modules/preprocessing.html\n",
      "Please also refer to the documentation for alternative solver options:\n",
      "    https://scikit-learn.org/stable/modules/linear_model.html#logistic-regression\n",
      "  n_iter_i = _check_optimize_result(\n"
     ]
    },
    {
     "name": "stdout",
     "output_type": "stream",
     "text": [
      "classifier:  svm \n",
      " new_dim:  75\n"
     ]
    },
    {
     "name": "stderr",
     "output_type": "stream",
     "text": [
      "c:\\Users\\maxxi\\AppData\\Local\\Programs\\Python\\Python311\\Lib\\site-packages\\sklearn\\svm\\_base.py:297: ConvergenceWarning: Solver terminated early (max_iter=10000).  Consider pre-processing your data with StandardScaler or MinMaxScaler.\n",
      "  warnings.warn(\n"
     ]
    },
    {
     "name": "stdout",
     "output_type": "stream",
     "text": [
      "classifier:  logreg \n",
      " new_dim:  75\n"
     ]
    },
    {
     "name": "stderr",
     "output_type": "stream",
     "text": [
      "c:\\Users\\maxxi\\AppData\\Local\\Programs\\Python\\Python311\\Lib\\site-packages\\sklearn\\linear_model\\_logistic.py:460: ConvergenceWarning: lbfgs failed to converge (status=1):\n",
      "STOP: TOTAL NO. of ITERATIONS REACHED LIMIT.\n",
      "\n",
      "Increase the number of iterations (max_iter) or scale the data as shown in:\n",
      "    https://scikit-learn.org/stable/modules/preprocessing.html\n",
      "Please also refer to the documentation for alternative solver options:\n",
      "    https://scikit-learn.org/stable/modules/linear_model.html#logistic-regression\n",
      "  n_iter_i = _check_optimize_result(\n"
     ]
    },
    {
     "name": "stdout",
     "output_type": "stream",
     "text": [
      "classifier:  svm \n",
      " new_dim:  100\n"
     ]
    },
    {
     "name": "stderr",
     "output_type": "stream",
     "text": [
      "c:\\Users\\maxxi\\AppData\\Local\\Programs\\Python\\Python311\\Lib\\site-packages\\sklearn\\svm\\_base.py:297: ConvergenceWarning: Solver terminated early (max_iter=10000).  Consider pre-processing your data with StandardScaler or MinMaxScaler.\n",
      "  warnings.warn(\n"
     ]
    },
    {
     "name": "stdout",
     "output_type": "stream",
     "text": [
      "classifier:  logreg \n",
      " new_dim:  100\n"
     ]
    },
    {
     "name": "stderr",
     "output_type": "stream",
     "text": [
      "c:\\Users\\maxxi\\AppData\\Local\\Programs\\Python\\Python311\\Lib\\site-packages\\sklearn\\linear_model\\_logistic.py:460: ConvergenceWarning: lbfgs failed to converge (status=1):\n",
      "STOP: TOTAL NO. of ITERATIONS REACHED LIMIT.\n",
      "\n",
      "Increase the number of iterations (max_iter) or scale the data as shown in:\n",
      "    https://scikit-learn.org/stable/modules/preprocessing.html\n",
      "Please also refer to the documentation for alternative solver options:\n",
      "    https://scikit-learn.org/stable/modules/linear_model.html#logistic-regression\n",
      "  n_iter_i = _check_optimize_result(\n"
     ]
    },
    {
     "name": "stdout",
     "output_type": "stream",
     "text": [
      "classifier:  svm \n",
      " new_dim:  250\n"
     ]
    },
    {
     "name": "stderr",
     "output_type": "stream",
     "text": [
      "c:\\Users\\maxxi\\AppData\\Local\\Programs\\Python\\Python311\\Lib\\site-packages\\sklearn\\svm\\_base.py:297: ConvergenceWarning: Solver terminated early (max_iter=10000).  Consider pre-processing your data with StandardScaler or MinMaxScaler.\n",
      "  warnings.warn(\n"
     ]
    },
    {
     "name": "stdout",
     "output_type": "stream",
     "text": [
      "classifier:  logreg \n",
      " new_dim:  250\n"
     ]
    },
    {
     "name": "stderr",
     "output_type": "stream",
     "text": [
      "c:\\Users\\maxxi\\AppData\\Local\\Programs\\Python\\Python311\\Lib\\site-packages\\sklearn\\linear_model\\_logistic.py:460: ConvergenceWarning: lbfgs failed to converge (status=1):\n",
      "STOP: TOTAL NO. of ITERATIONS REACHED LIMIT.\n",
      "\n",
      "Increase the number of iterations (max_iter) or scale the data as shown in:\n",
      "    https://scikit-learn.org/stable/modules/preprocessing.html\n",
      "Please also refer to the documentation for alternative solver options:\n",
      "    https://scikit-learn.org/stable/modules/linear_model.html#logistic-regression\n",
      "  n_iter_i = _check_optimize_result(\n"
     ]
    },
    {
     "name": "stdout",
     "output_type": "stream",
     "text": [
      "classifier:  svm \n",
      " new_dim:  400\n"
     ]
    },
    {
     "name": "stderr",
     "output_type": "stream",
     "text": [
      "c:\\Users\\maxxi\\AppData\\Local\\Programs\\Python\\Python311\\Lib\\site-packages\\sklearn\\svm\\_base.py:297: ConvergenceWarning: Solver terminated early (max_iter=10000).  Consider pre-processing your data with StandardScaler or MinMaxScaler.\n",
      "  warnings.warn(\n"
     ]
    },
    {
     "name": "stdout",
     "output_type": "stream",
     "text": [
      "classifier:  logreg \n",
      " new_dim:  400\n"
     ]
    },
    {
     "name": "stderr",
     "output_type": "stream",
     "text": [
      "c:\\Users\\maxxi\\AppData\\Local\\Programs\\Python\\Python311\\Lib\\site-packages\\sklearn\\linear_model\\_logistic.py:460: ConvergenceWarning: lbfgs failed to converge (status=1):\n",
      "STOP: TOTAL NO. of ITERATIONS REACHED LIMIT.\n",
      "\n",
      "Increase the number of iterations (max_iter) or scale the data as shown in:\n",
      "    https://scikit-learn.org/stable/modules/preprocessing.html\n",
      "Please also refer to the documentation for alternative solver options:\n",
      "    https://scikit-learn.org/stable/modules/linear_model.html#logistic-regression\n",
      "  n_iter_i = _check_optimize_result(\n"
     ]
    },
    {
     "name": "stdout",
     "output_type": "stream",
     "text": [
      "[0.8690416666666667, 0.872125, 0.870625, 0.863375, 0.8605]\n",
      "[0.865, 0.8654583333333333, 0.8643333333333333, 0.8572916666666667, 0.8507916666666666]\n"
     ]
    }
   ],
   "source": [
    "pca_array = [50, 75, 100, 250, 400]\n",
    "classifier_array = ['svm', 'logreg']\n",
    "\n",
    "svm_PCA_accuracy = []\n",
    "logreg_PCA_accuracy = []\n",
    "\n",
    "for element_1 in pca_array:\n",
    "    for element_2 in classifier_array:\n",
    "        print(\"classifier: \", element_2, '\\n', 'new_dim: ', element_1)\n",
    "        model = RFFPipeline(classifier=element_2, n_features=250, new_dim=element_1)\n",
    "        model.fit(X_train, Y_train)\n",
    "        prediction = model.predict(X_test)\n",
    "        accuracy = metrics.accuracy_score(Y_test, prediction)\n",
    "        if element_2 == 'svm':\n",
    "            svm_PCA_accuracy.append(accuracy)\n",
    "        else:\n",
    "            logreg_PCA_accuracy.append(accuracy)\n",
    "\n",
    "print(svm_PCA_accuracy)\n",
    "print(logreg_PCA_accuracy)"
   ]
  },
  {
   "cell_type": "code",
   "execution_count": 57,
   "metadata": {},
   "outputs": [],
   "source": [
    "pca_array = [50, 75, 100, 250, 400]\n",
    "\n",
    "svm_PCA_accuracy = [0.8690416666666667, 0.872125, 0.870625, 0.863375, 0.8605]\n",
    "logreg_PCA_accuracy = [0.865, 0.8654583333333333, 0.8643333333333333, 0.8572916666666667, 0.8507916666666666]"
   ]
  },
  {
   "cell_type": "code",
   "execution_count": 59,
   "metadata": {},
   "outputs": [
    {
     "data": {
      "text/html": [
       "<div>\n",
       "<style scoped>\n",
       "    .dataframe tbody tr th:only-of-type {\n",
       "        vertical-align: middle;\n",
       "    }\n",
       "\n",
       "    .dataframe tbody tr th {\n",
       "        vertical-align: top;\n",
       "    }\n",
       "\n",
       "    .dataframe thead th {\n",
       "        text-align: right;\n",
       "    }\n",
       "</style>\n",
       "<table border=\"1\" class=\"dataframe\">\n",
       "  <thead>\n",
       "    <tr style=\"text-align: right;\">\n",
       "      <th></th>\n",
       "      <th>pca</th>\n",
       "      <th>svm</th>\n",
       "      <th>logreg</th>\n",
       "    </tr>\n",
       "  </thead>\n",
       "  <tbody>\n",
       "    <tr>\n",
       "      <th>0</th>\n",
       "      <td>50.0</td>\n",
       "      <td>0.869042</td>\n",
       "      <td>0.865000</td>\n",
       "    </tr>\n",
       "    <tr>\n",
       "      <th>1</th>\n",
       "      <td>75.0</td>\n",
       "      <td>0.872125</td>\n",
       "      <td>0.865458</td>\n",
       "    </tr>\n",
       "    <tr>\n",
       "      <th>2</th>\n",
       "      <td>100.0</td>\n",
       "      <td>0.870625</td>\n",
       "      <td>0.864333</td>\n",
       "    </tr>\n",
       "    <tr>\n",
       "      <th>3</th>\n",
       "      <td>250.0</td>\n",
       "      <td>0.863375</td>\n",
       "      <td>0.857292</td>\n",
       "    </tr>\n",
       "    <tr>\n",
       "      <th>4</th>\n",
       "      <td>400.0</td>\n",
       "      <td>0.860500</td>\n",
       "      <td>0.850792</td>\n",
       "    </tr>\n",
       "  </tbody>\n",
       "</table>\n",
       "</div>"
      ],
      "text/plain": [
       "     pca       svm    logreg\n",
       "0   50.0  0.869042  0.865000\n",
       "1   75.0  0.872125  0.865458\n",
       "2  100.0  0.870625  0.864333\n",
       "3  250.0  0.863375  0.857292\n",
       "4  400.0  0.860500  0.850792"
      ]
     },
     "execution_count": 59,
     "metadata": {},
     "output_type": "execute_result"
    }
   ],
   "source": [
    "accuracy_data_pca = np.array([pca_array, svm_PCA_accuracy, logreg_PCA_accuracy]).T\n",
    "\n",
    "accuracy_data_pca = pd.DataFrame(accuracy_data_pca, columns=['pca', 'svm', 'logreg'])\n",
    "accuracy_data_pca"
   ]
  },
  {
   "cell_type": "code",
   "execution_count": 60,
   "metadata": {},
   "outputs": [
    {
     "data": {
      "text/plain": [
       "<matplotlib.legend.Legend at 0x23b20ac7f10>"
      ]
     },
     "execution_count": 60,
     "metadata": {},
     "output_type": "execute_result"
    },
    {
     "data": {
      "image/png": "[encoded data removed]",
      "text/plain": [
       "<Figure size 640x480 with 1 Axes>"
      ]
     },
     "metadata": {},
     "output_type": "display_data"
    }
   ],
   "source": [
    "sns.lineplot(x='pca',\n",
    "            y='svm',\n",
    "            data=accuracy_data_pca,\n",
    "            #label='svm',\n",
    "            lw=3)\n",
    "sns.lineplot(x='pca',\n",
    "            y='logreg',\n",
    "            data=accuracy_data_pca,\n",
    "            color='r',\n",
    "            #label='logreg',\n",
    "            lw=3)\n",
    "\n",
    "plt.xlabel('pca New Dim')\n",
    "plt.ylabel('accuracy')\n",
    "plt.legend(labels=['svm', 'logreg'] ,title='Model')"
   ]
  },
  {
   "cell_type": "markdown",
   "metadata": {},
   "source": [
    "Можно заметить, что у обоих моделей максимальная точность получается на разложении в примерно 70, далее точность падает"
   ]
  },
  {
   "cell_type": "markdown",
   "metadata": {
    "id": "CJqXVuasK-hW"
   },
   "source": [
    "### Бонус"
   ]
  },
  {
   "cell_type": "markdown",
   "metadata": {
    "id": "QVDWHCdrK-hX"
   },
   "source": [
    "__Задание 4. (Максимум 2 балла)__\n",
    "\n",
    "Как вы, должно быть, помните с курса МО-1, многие алгоритмы машинного обучения работают лучше, если признаки данных некоррелированы. Оказывается, что для RFF существует модификация, позволяющая получать ортогональные случайные признаки (Orthogonal Random Features, ORF). Об этом методе можно прочитать в [статье](https://proceedings.neurips.cc/paper/2016/file/53adaf494dc89ef7196d73636eb2451b-Paper.pdf). Реализуйте класс для вычисления ORF по аналогии с основным заданием. Обратите внимание, что ваш класс должен уметь работать со случаем n_features > new_dim (в статье есть замечание на этот счет). Проведите эксперименты, сравнивающие RFF и ORF, сделайте выводы."
   ]
  },
  {
   "cell_type": "code",
   "execution_count": null,
   "metadata": {
    "id": "HSxvGI9iK-hX"
   },
   "outputs": [],
   "source": [
    "# Your code here: (￣▽￣)/♫•*¨*•.¸¸♪"
   ]
  },
  {
   "cell_type": "markdown",
   "metadata": {
    "id": "4pc7-1jmK-hY"
   },
   "source": [
    "__Задание 5. (Максимум 1 балл)__\n",
    "\n",
    "Поэкспериментируйте с функциями для вычисления новых случайных признаков. Не обязательно использовать косинус от скалярного произведения — можно брать знак от него, хэш и т.д. Придумайте побольше вариантов для генерации признаков и проверьте, не получается ли с их помощью добиваться более высокого качества. Также можете попробовать другой классификатор поверх случайных признаков, сравните результаты."
   ]
  },
  {
   "cell_type": "code",
   "execution_count": 7,
   "metadata": {
    "id": "dWj-O2vjK-hY"
   },
   "outputs": [],
   "source": [
    "from sklearn.base import BaseEstimator, TransformerMixin\n",
    "\n",
    "\n",
    "class RFFPipeline_var_funcs(BaseEstimator, TransformerMixin):\n",
    "    def __init__(self, n_features=1000, new_dim=50, use_PCA=True, func='cos', classifier='logreg'):\n",
    "        \"\"\"        \n",
    "        Implements pipeline, which consists of PCA decomposition,\n",
    "        Random Fourier Features approximation and linear classification model.\n",
    "        \n",
    "        n_features, int: amount of synthetic random features generated with RFF approximation.\n",
    "\n",
    "        new_dim, int: PCA output size.\n",
    "        \n",
    "        use_PCA, bool: whether to include PCA preprocessing.\n",
    "        \n",
    "        func, string: 'cos', 'sin', 'exp', 'tanh', 'sigmoid', 'sign', 'None'\n",
    "\n",
    "        classifier, string: either 'svm' or 'logreg', a linear classification model to use on top of pipeline.\n",
    "        \n",
    "        Feel free to edit this template for your preferences.    \n",
    "        \"\"\"\n",
    "        self.n_features = n_features\n",
    "        self.use_PCA = use_PCA\n",
    "        self.new_dim = new_dim\n",
    "        if func not in ['cos', 'sin', 'exp', 'tanh', 'sigmoid', 'sign', 'None']:\n",
    "            raise ValueError('Incorrect function')\n",
    "        else:\n",
    "            self.func = func\n",
    "\n",
    "        if classifier not in ['svm', 'logreg']:\n",
    "            raise ValueError('Incorrect classifier')\n",
    "        else:\n",
    "            self.classifier = classifier\n",
    "    \n",
    "    def __PCA(self, X, train=True) -> np.ndarray:\n",
    "        if train:\n",
    "            self.pca = decomposition.PCA(n_components=self.new_dim)\n",
    "            self.pca.fit(X)            \n",
    "        X_decomposed = self.pca.transform(X)\n",
    "        return X_decomposed\n",
    "\n",
    "    def __sigma(self, X, subset_size=1000000) -> float:\n",
    "        X_dim = X.shape\n",
    "        if X_dim[0] * X_dim[1] < 2 * subset_size:\n",
    "            subset_rows = X_dim[0] // 2\n",
    "        else:\n",
    "            subset_rows = subset_size // X_dim[1]\n",
    "        \n",
    "        X_new = np.array(X)\n",
    "        np.random.shuffle(X_new)\n",
    "        eval_subset = X_new[:(2 * subset_rows)]\n",
    "        eval_subset_one = eval_subset[:subset_rows]\n",
    "        eval_subset_two = eval_subset[subset_rows:(subset_rows * 2)]\n",
    "        del eval_subset\n",
    "\n",
    "        substract_squared = np.power((eval_subset_one - eval_subset_two), 2)\n",
    "        for i in range(subset_rows):\n",
    "            substract_squared[i] = substract_squared[i].sum()\n",
    "        median = np.median(substract_squared)\n",
    "\n",
    "        return median\n",
    "\n",
    "    def __RFF(self, X, train=True): \n",
    "        def sigmoid(x) -> np.float32:\n",
    "            return 1 / (1 + np.exp(-x))\n",
    "\n",
    "        sigma_squared = self.__sigma(X)\n",
    "        d = X.shape[1]\n",
    "        if train:\n",
    "            self.weights = np.random.normal(loc=0, scale=np.sqrt(1/sigma_squared), size=(self.n_features, d))\n",
    "            self.bias = np.random.uniform(-np.pi, np.pi, size=(self.n_features, 1))\n",
    "\n",
    "        match self.func:\n",
    "            case 'cos':\n",
    "                X_RFF = np.cos( self.weights @ X.T + self.bias ).T\n",
    "            case 'sin':\n",
    "                X_RFF = np.sin( self.weights @ X.T + self.bias ).T\n",
    "            case 'exp':\n",
    "                X_RFF = np.exp( self.weights @ X.T + self.bias ).T\n",
    "            case 'tanh':\n",
    "                X_RFF = np.tanh( self.weights @ X.T + self.bias ).T\n",
    "            case 'sigmoid':\n",
    "                X_RFF = sigmoid( self.weights @ X.T + self.bias ).T\n",
    "            case 'sign':\n",
    "                X_RFF = np.sign( self.weights @ X.T + self.bias ).T\n",
    "            case 'None':\n",
    "                X_RFF = ( self.weights @ X.T + self.bias ).T\n",
    "        \n",
    "        # print(X_RFF)\n",
    "        if train:\n",
    "            self.transformer = preprocessing.MinMaxScaler()\n",
    "            self.transformer.fit(X_RFF)\n",
    "        X_RFF = self.transformer.transform(X_RFF)\n",
    "        \n",
    "        return X_RFF\n",
    "\n",
    "    def fit(self, X, y):\n",
    "        \"\"\"\n",
    "        Fit all parts of algorithm (PCA, RFF, Classification) to training set.\n",
    "        \"\"\"\n",
    "        if self.use_PCA:\n",
    "            X = self.__PCA(X)\n",
    "        X_RFF = self.__RFF(X)\n",
    "        if self.classifier == 'svm':\n",
    "            self.model = svm.SVC(kernel='linear',  max_iter = 10**4)\n",
    "            self.model.fit(X_RFF, y)\n",
    "        else:\n",
    "            self.model = linear_model.LogisticRegression(max_iter = 10**3)\n",
    "            self.model.fit(X_RFF, y)\n",
    "\n",
    "        return self\n",
    "\n",
    "    def predict_proba(self, X):\n",
    "        \"\"\"\n",
    "        Apply pipeline to obtain scores for input data.\n",
    "        \"\"\"\n",
    "        if self.use_PCA:\n",
    "            X = self.__PCA(X, False)\n",
    "        X_RFF = self.__RFF(X, False)\n",
    "        \n",
    "        return self.model.predict_proba(X_RFF)\n",
    "        \n",
    "    def predict(self, X):\n",
    "        \"\"\"\n",
    "        Apply pipeline to obtain discrete predictions for input data.\n",
    "        \"\"\"\n",
    "        if self.classifier == 'svm':\n",
    "            if self.use_PCA:\n",
    "                X = self.__PCA(X, False)\n",
    "            X_RFF = self.__RFF(X, False)\n",
    "            predictions = self.model.predict(X_RFF)\n",
    "        else:\n",
    "            probs = self.predict_proba(X)\n",
    "            predictions = np.argmax(probs, axis = 1)\n",
    "\n",
    "        return predictions\n",
    "        "
   ]
  },
  {
   "cell_type": "code",
   "execution_count": 8,
   "metadata": {},
   "outputs": [
    {
     "name": "stderr",
     "output_type": "stream",
     "text": [
      "c:\\Users\\maxxi\\AppData\\Local\\Programs\\Python\\Python311\\Lib\\site-packages\\sklearn\\svm\\_base.py:297: ConvergenceWarning: Solver terminated early (max_iter=10000).  Consider pre-processing your data with StandardScaler or MinMaxScaler.\n",
      "  warnings.warn(\n",
      "c:\\Users\\maxxi\\AppData\\Local\\Programs\\Python\\Python311\\Lib\\site-packages\\sklearn\\svm\\_base.py:297: ConvergenceWarning: Solver terminated early (max_iter=10000).  Consider pre-processing your data with StandardScaler or MinMaxScaler.\n",
      "  warnings.warn(\n",
      "c:\\Users\\maxxi\\AppData\\Local\\Programs\\Python\\Python311\\Lib\\site-packages\\sklearn\\svm\\_base.py:297: ConvergenceWarning: Solver terminated early (max_iter=10000).  Consider pre-processing your data with StandardScaler or MinMaxScaler.\n",
      "  warnings.warn(\n",
      "c:\\Users\\maxxi\\AppData\\Local\\Programs\\Python\\Python311\\Lib\\site-packages\\sklearn\\svm\\_base.py:297: ConvergenceWarning: Solver terminated early (max_iter=10000).  Consider pre-processing your data with StandardScaler or MinMaxScaler.\n",
      "  warnings.warn(\n",
      "c:\\Users\\maxxi\\AppData\\Local\\Programs\\Python\\Python311\\Lib\\site-packages\\sklearn\\svm\\_base.py:297: ConvergenceWarning: Solver terminated early (max_iter=10000).  Consider pre-processing your data with StandardScaler or MinMaxScaler.\n",
      "  warnings.warn(\n",
      "c:\\Users\\maxxi\\AppData\\Local\\Programs\\Python\\Python311\\Lib\\site-packages\\sklearn\\svm\\_base.py:297: ConvergenceWarning: Solver terminated early (max_iter=10000).  Consider pre-processing your data with StandardScaler or MinMaxScaler.\n",
      "  warnings.warn(\n",
      "c:\\Users\\maxxi\\AppData\\Local\\Programs\\Python\\Python311\\Lib\\site-packages\\sklearn\\linear_model\\_logistic.py:460: ConvergenceWarning: lbfgs failed to converge (status=1):\n",
      "STOP: TOTAL NO. of ITERATIONS REACHED LIMIT.\n",
      "\n",
      "Increase the number of iterations (max_iter) or scale the data as shown in:\n",
      "    https://scikit-learn.org/stable/modules/preprocessing.html\n",
      "Please also refer to the documentation for alternative solver options:\n",
      "    https://scikit-learn.org/stable/modules/linear_model.html#logistic-regression\n",
      "  n_iter_i = _check_optimize_result(\n",
      "c:\\Users\\maxxi\\AppData\\Local\\Programs\\Python\\Python311\\Lib\\site-packages\\sklearn\\linear_model\\_logistic.py:460: ConvergenceWarning: lbfgs failed to converge (status=1):\n",
      "STOP: TOTAL NO. of ITERATIONS REACHED LIMIT.\n",
      "\n",
      "Increase the number of iterations (max_iter) or scale the data as shown in:\n",
      "    https://scikit-learn.org/stable/modules/preprocessing.html\n",
      "Please also refer to the documentation for alternative solver options:\n",
      "    https://scikit-learn.org/stable/modules/linear_model.html#logistic-regression\n",
      "  n_iter_i = _check_optimize_result(\n",
      "c:\\Users\\maxxi\\AppData\\Local\\Programs\\Python\\Python311\\Lib\\site-packages\\sklearn\\linear_model\\_logistic.py:460: ConvergenceWarning: lbfgs failed to converge (status=1):\n",
      "STOP: TOTAL NO. of ITERATIONS REACHED LIMIT.\n",
      "\n",
      "Increase the number of iterations (max_iter) or scale the data as shown in:\n",
      "    https://scikit-learn.org/stable/modules/preprocessing.html\n",
      "Please also refer to the documentation for alternative solver options:\n",
      "    https://scikit-learn.org/stable/modules/linear_model.html#logistic-regression\n",
      "  n_iter_i = _check_optimize_result(\n",
      "c:\\Users\\maxxi\\AppData\\Local\\Programs\\Python\\Python311\\Lib\\site-packages\\sklearn\\linear_model\\_logistic.py:460: ConvergenceWarning: lbfgs failed to converge (status=1):\n",
      "STOP: TOTAL NO. of ITERATIONS REACHED LIMIT.\n",
      "\n",
      "Increase the number of iterations (max_iter) or scale the data as shown in:\n",
      "    https://scikit-learn.org/stable/modules/preprocessing.html\n",
      "Please also refer to the documentation for alternative solver options:\n",
      "    https://scikit-learn.org/stable/modules/linear_model.html#logistic-regression\n",
      "  n_iter_i = _check_optimize_result(\n",
      "c:\\Users\\maxxi\\AppData\\Local\\Programs\\Python\\Python311\\Lib\\site-packages\\sklearn\\linear_model\\_logistic.py:460: ConvergenceWarning: lbfgs failed to converge (status=1):\n",
      "STOP: TOTAL NO. of ITERATIONS REACHED LIMIT.\n",
      "\n",
      "Increase the number of iterations (max_iter) or scale the data as shown in:\n",
      "    https://scikit-learn.org/stable/modules/preprocessing.html\n",
      "Please also refer to the documentation for alternative solver options:\n",
      "    https://scikit-learn.org/stable/modules/linear_model.html#logistic-regression\n",
      "  n_iter_i = _check_optimize_result(\n",
      "c:\\Users\\maxxi\\AppData\\Local\\Programs\\Python\\Python311\\Lib\\site-packages\\sklearn\\linear_model\\_logistic.py:460: ConvergenceWarning: lbfgs failed to converge (status=1):\n",
      "STOP: TOTAL NO. of ITERATIONS REACHED LIMIT.\n",
      "\n",
      "Increase the number of iterations (max_iter) or scale the data as shown in:\n",
      "    https://scikit-learn.org/stable/modules/preprocessing.html\n",
      "Please also refer to the documentation for alternative solver options:\n",
      "    https://scikit-learn.org/stable/modules/linear_model.html#logistic-regression\n",
      "  n_iter_i = _check_optimize_result(\n"
     ]
    },
    {
     "name": "stdout",
     "output_type": "stream",
     "text": [
      "[0.8702083333333334, 0.8704583333333333, 0.858625, 0.8649166666666667, 0.863125, 0.7840833333333334, 0.8479166666666667]\n",
      "[0.8647083333333333, 0.8627083333333333, 0.8505416666666666, 0.8579583333333334, 0.8539166666666667, 0.7932083333333333, 0.8355]\n"
     ]
    }
   ],
   "source": [
    "func_array = ['cos', 'sin', 'exp', 'tanh', 'sigmoid', 'sign', 'None']\n",
    "classifier_array = ['svm', 'logreg']\n",
    "\n",
    "svm_func_accuracy = []\n",
    "logreg_func_accuracy = []\n",
    "\n",
    "for element_1 in classifier_array:\n",
    "    for element_2 in func_array:\n",
    "        model = RFFPipeline_var_funcs(n_features=250, func=element_2, classifier=element_1)\n",
    "        model.fit(X_train, Y_train)\n",
    "        prediction = model.predict(X_test)\n",
    "        accuracy = metrics.accuracy_score(Y_test, prediction)\n",
    "        if element_1 == 'svm':\n",
    "            svm_func_accuracy.append(accuracy)\n",
    "        else:\n",
    "            logreg_func_accuracy.append(accuracy)\n",
    "\n",
    "print(svm_func_accuracy)\n",
    "print(logreg_func_accuracy)"
   ]
  },
  {
   "cell_type": "code",
   "execution_count": 15,
   "metadata": {},
   "outputs": [
    {
     "data": {
      "text/html": [
       "<div>\n",
       "<style scoped>\n",
       "    .dataframe tbody tr th:only-of-type {\n",
       "        vertical-align: middle;\n",
       "    }\n",
       "\n",
       "    .dataframe tbody tr th {\n",
       "        vertical-align: top;\n",
       "    }\n",
       "\n",
       "    .dataframe thead th {\n",
       "        text-align: right;\n",
       "    }\n",
       "</style>\n",
       "<table border=\"1\" class=\"dataframe\">\n",
       "  <thead>\n",
       "    <tr style=\"text-align: right;\">\n",
       "      <th></th>\n",
       "      <th>function</th>\n",
       "      <th>svm</th>\n",
       "      <th>logreg</th>\n",
       "    </tr>\n",
       "  </thead>\n",
       "  <tbody>\n",
       "    <tr>\n",
       "      <th>0</th>\n",
       "      <td>cos</td>\n",
       "      <td>0.8702083333333334</td>\n",
       "      <td>0.8647083333333333</td>\n",
       "    </tr>\n",
       "    <tr>\n",
       "      <th>1</th>\n",
       "      <td>sin</td>\n",
       "      <td>0.8704583333333333</td>\n",
       "      <td>0.8627083333333333</td>\n",
       "    </tr>\n",
       "    <tr>\n",
       "      <th>2</th>\n",
       "      <td>exp</td>\n",
       "      <td>0.858625</td>\n",
       "      <td>0.8505416666666666</td>\n",
       "    </tr>\n",
       "    <tr>\n",
       "      <th>3</th>\n",
       "      <td>tanh</td>\n",
       "      <td>0.8649166666666667</td>\n",
       "      <td>0.8579583333333334</td>\n",
       "    </tr>\n",
       "    <tr>\n",
       "      <th>4</th>\n",
       "      <td>sigmoid</td>\n",
       "      <td>0.863125</td>\n",
       "      <td>0.8539166666666667</td>\n",
       "    </tr>\n",
       "    <tr>\n",
       "      <th>5</th>\n",
       "      <td>sign</td>\n",
       "      <td>0.7840833333333334</td>\n",
       "      <td>0.7932083333333333</td>\n",
       "    </tr>\n",
       "    <tr>\n",
       "      <th>6</th>\n",
       "      <td>None</td>\n",
       "      <td>0.8479166666666667</td>\n",
       "      <td>0.8355</td>\n",
       "    </tr>\n",
       "  </tbody>\n",
       "</table>\n",
       "</div>"
      ],
      "text/plain": [
       "  function                 svm              logreg\n",
       "0      cos  0.8702083333333334  0.8647083333333333\n",
       "1      sin  0.8704583333333333  0.8627083333333333\n",
       "2      exp            0.858625  0.8505416666666666\n",
       "3     tanh  0.8649166666666667  0.8579583333333334\n",
       "4  sigmoid            0.863125  0.8539166666666667\n",
       "5     sign  0.7840833333333334  0.7932083333333333\n",
       "6     None  0.8479166666666667              0.8355"
      ]
     },
     "execution_count": 15,
     "metadata": {},
     "output_type": "execute_result"
    }
   ],
   "source": [
    "svm_func_accuracy = [0.8702083333333334, 0.8704583333333333, 0.858625, 0.8649166666666667, 0.863125, 0.7840833333333334, 0.8479166666666667]\n",
    "logreg_func_accuracy = [0.8647083333333333, 0.8627083333333333, 0.8505416666666666, 0.8579583333333334, 0.8539166666666667, 0.7932083333333333, 0.8355]\n",
    "\n",
    "accuracy_data_func = np.array([func_array, svm_func_accuracy, logreg_func_accuracy]).T\n",
    "\n",
    "accuracy_data_func = pd.DataFrame(accuracy_data_pca, columns=['function', 'svm', 'logreg'])"
   ]
  },
  {
   "cell_type": "code",
   "execution_count": 81,
   "metadata": {},
   "outputs": [
    {
     "data": {
      "text/html": [
       "<div>\n",
       "<style scoped>\n",
       "    .dataframe tbody tr th:only-of-type {\n",
       "        vertical-align: middle;\n",
       "    }\n",
       "\n",
       "    .dataframe tbody tr th {\n",
       "        vertical-align: top;\n",
       "    }\n",
       "\n",
       "    .dataframe thead th {\n",
       "        text-align: right;\n",
       "    }\n",
       "</style>\n",
       "<table border=\"1\" class=\"dataframe\">\n",
       "  <thead>\n",
       "    <tr style=\"text-align: right;\">\n",
       "      <th></th>\n",
       "      <th>function</th>\n",
       "      <th>score</th>\n",
       "      <th>solver</th>\n",
       "    </tr>\n",
       "  </thead>\n",
       "  <tbody>\n",
       "    <tr>\n",
       "      <th>0</th>\n",
       "      <td>cos</td>\n",
       "      <td>0.870208</td>\n",
       "      <td>svm</td>\n",
       "    </tr>\n",
       "    <tr>\n",
       "      <th>1</th>\n",
       "      <td>sin</td>\n",
       "      <td>0.870458</td>\n",
       "      <td>svm</td>\n",
       "    </tr>\n",
       "    <tr>\n",
       "      <th>2</th>\n",
       "      <td>exp</td>\n",
       "      <td>0.858625</td>\n",
       "      <td>svm</td>\n",
       "    </tr>\n",
       "    <tr>\n",
       "      <th>3</th>\n",
       "      <td>tanh</td>\n",
       "      <td>0.864917</td>\n",
       "      <td>svm</td>\n",
       "    </tr>\n",
       "    <tr>\n",
       "      <th>4</th>\n",
       "      <td>sigmoid</td>\n",
       "      <td>0.863125</td>\n",
       "      <td>svm</td>\n",
       "    </tr>\n",
       "    <tr>\n",
       "      <th>5</th>\n",
       "      <td>sign</td>\n",
       "      <td>0.784083</td>\n",
       "      <td>svm</td>\n",
       "    </tr>\n",
       "    <tr>\n",
       "      <th>6</th>\n",
       "      <td>None</td>\n",
       "      <td>0.847917</td>\n",
       "      <td>svm</td>\n",
       "    </tr>\n",
       "    <tr>\n",
       "      <th>7</th>\n",
       "      <td>cos</td>\n",
       "      <td>0.864708</td>\n",
       "      <td>logreg</td>\n",
       "    </tr>\n",
       "    <tr>\n",
       "      <th>8</th>\n",
       "      <td>sin</td>\n",
       "      <td>0.862708</td>\n",
       "      <td>logreg</td>\n",
       "    </tr>\n",
       "    <tr>\n",
       "      <th>9</th>\n",
       "      <td>exp</td>\n",
       "      <td>0.850542</td>\n",
       "      <td>logreg</td>\n",
       "    </tr>\n",
       "    <tr>\n",
       "      <th>10</th>\n",
       "      <td>tanh</td>\n",
       "      <td>0.857958</td>\n",
       "      <td>logreg</td>\n",
       "    </tr>\n",
       "    <tr>\n",
       "      <th>11</th>\n",
       "      <td>sigmoid</td>\n",
       "      <td>0.853917</td>\n",
       "      <td>logreg</td>\n",
       "    </tr>\n",
       "    <tr>\n",
       "      <th>12</th>\n",
       "      <td>sign</td>\n",
       "      <td>0.793208</td>\n",
       "      <td>logreg</td>\n",
       "    </tr>\n",
       "    <tr>\n",
       "      <th>13</th>\n",
       "      <td>None</td>\n",
       "      <td>0.835500</td>\n",
       "      <td>logreg</td>\n",
       "    </tr>\n",
       "  </tbody>\n",
       "</table>\n",
       "</div>"
      ],
      "text/plain": [
       "   function     score  solver\n",
       "0       cos  0.870208     svm\n",
       "1       sin  0.870458     svm\n",
       "2       exp  0.858625     svm\n",
       "3      tanh  0.864917     svm\n",
       "4   sigmoid  0.863125     svm\n",
       "5      sign  0.784083     svm\n",
       "6      None  0.847917     svm\n",
       "7       cos  0.864708  logreg\n",
       "8       sin  0.862708  logreg\n",
       "9       exp  0.850542  logreg\n",
       "10     tanh  0.857958  logreg\n",
       "11  sigmoid  0.853917  logreg\n",
       "12     sign  0.793208  logreg\n",
       "13     None  0.835500  logreg"
      ]
     },
     "execution_count": 81,
     "metadata": {},
     "output_type": "execute_result"
    }
   ],
   "source": [
    "func_double = func_array * 2\n",
    "ans_array = svm_func_accuracy + logreg_func_accuracy\n",
    "solv_array = ['svm'] * 7 + ['logreg'] * 7\n",
    "\n",
    "accuracy_data_func_new = np.array([func_double, ans_array, solv_array]).T\n",
    "accuracy_data_func_new = pd.DataFrame(accuracy_data_func_new, columns=['function', 'score', 'solver'])\n",
    "\n",
    "accuracy_data_func_new['score'] = pd.to_numeric(accuracy_data_func_new['score'])\n",
    "accuracy_data_func_new"
   ]
  },
  {
   "cell_type": "code",
   "execution_count": 84,
   "metadata": {},
   "outputs": [
    {
     "data": {
      "image/png": "[encoded data removed]",
      "text/plain": [
       "<Figure size 640x480 with 1 Axes>"
      ]
     },
     "metadata": {},
     "output_type": "display_data"
    }
   ],
   "source": [
    "sns.barplot(\n",
    "    data=accuracy_data_func_new,\n",
    "    x='function',\n",
    "    y='score',\n",
    "    hue='solver'\n",
    ")\n",
    "plt.ylim(0.75, 1.0);"
   ]
  },
  {
   "cell_type": "markdown",
   "metadata": {},
   "source": [
    "Как можно видеть, нет большой разницы в том, какую функцию использовать (только на sign имеется некоторая просадка). Это можно связать с тем, что PCA очень хорошо преобразует фичи, понижая в некоторой степени разряженные данные картинок в плотный вектор размера new_Dim."
   ]
  },
  {
   "cell_type": "markdown",
   "metadata": {},
   "source": [
    "__Задание 6. (Максимум 1 балл)__\n",
    "\n",
    "Реализуйте класс ядровой Ridge регрессии (Лекция 13, $\\S 1.2$), для оптимизации используте градиентный спуск, а не аналитическую формулу. Также подумайте о том, как в формулах правильно учесть свободный коэффициент. Затем адаптируйте вашу реализацию RFF под задачу регрессии. Сравните вашу ядровую регрессию и RFF на синтетических данных."
   ]
  },
  {
   "cell_type": "markdown",
   "metadata": {},
   "source": [
    "Функция потерь: \n",
    "$$\n",
    "Q(w) = \\frac{1}{2} ||\\Phi \\Phi^T w - y||^2 + \\frac{\\lambda}{2} w^T \\Phi \\Phi^T w \\rightarrow \\min_w,\n",
    "$$\n",
    "где $\\Phi \\Phi^T = K$, $K = (k(x_i, x_j))_{i, j = 1}^{\\ell}$.\n",
    "\n",
    "Предсказание: \n",
    "$\n",
    "y(x) = k(x)^T w,\n",
    "$\n",
    "где $k(x)$ — вектор функций ядра от пар объектов $(x, x_i)_{i=1}^{\\ell}$.\n",
    "\n",
    "Вы можете изменять представленный ниже шаблон по своему усмотрению."
   ]
  },
  {
   "cell_type": "code",
   "execution_count": null,
   "metadata": {},
   "outputs": [],
   "source": [
    "import numpy as np\n",
    "from sklearn.base import RegressorMixin\n",
    "from sklearn.gaussian_process.kernels import RBF\n",
    "\n",
    "class KernelRidgeRegression(RegressorMixin):\n",
    "    \"\"\"\n",
    "    Kernel Ridge regression class\n",
    "    \"\"\"\n",
    "\n",
    "    def __init__(self,         \n",
    "        lr=0.01,\n",
    "        regularization=1.,\n",
    "        tolerance=1e-2,\n",
    "        max_iter=1000,\n",
    "        batch_size=64,\n",
    "        kernel_scale=1.\n",
    "    ):\n",
    "        \"\"\"\n",
    "        :param lr: learning rate\n",
    "        :param regularization: regularization coefficient\n",
    "        :param tolerance: stopping criterion for square of euclidean norm of weight difference\n",
    "        :param max_iter: stopping criterion for iterations\n",
    "        :param batch_size: size of the batches used in gradient descent steps\n",
    "        :parame kernel_scale: length scale in RBF kernel formula\n",
    "        \"\"\"\n",
    "\n",
    "        self.lr: float = lr\n",
    "        self.regularization: float = regularization\n",
    "        self.w: np.ndarray | None = None\n",
    "\n",
    "        self.tolerance: float = tolerance\n",
    "        self.max_iter: int = max_iter\n",
    "        self.batch_size: int = batch_size\n",
    "        self.loss_history: list[float] = []\n",
    "        self.kernel = RBF(kernel_scale)\n",
    "\n",
    "    def calc_loss(self, x: np.ndarray, y: np.ndarray) -> float:\n",
    "        \"\"\"\n",
    "        Calculating loss for x and y dataset\n",
    "        :param x: features array\n",
    "        :param y: targets array\n",
    "        \"\"\"\n",
    "        raise NotImplementedError\n",
    "\n",
    "    def calc_grad(self, x: np.ndarray, y: np.ndarray) -> float:\n",
    "        \"\"\"\n",
    "        Calculating gradient for x and y dataset\n",
    "        :param x: features array\n",
    "        :param y: targets array\n",
    "        \"\"\"\n",
    "        raise NotImplementedError\n",
    "\n",
    "    def fit(self, x: np.ndarray, y: np.ndarray) -> \"KernelRidgeRegression\":\n",
    "        \"\"\"\n",
    "        Fitting weights for x and y dataset\n",
    "        :param x: features array\n",
    "        :param y: targets array\n",
    "        :return: self\n",
    "        \"\"\"\n",
    "        raise NotImplementedError\n",
    "\n",
    "    def predict(self, x: np.ndarray) -> np.ndarray:\n",
    "        \"\"\"\n",
    "        Predicting targets for x dataset\n",
    "        :param x: features array\n",
    "        :return: prediction: np.ndarray\n",
    "        \"\"\"\n",
    "        raise NotImplementedError"
   ]
  },
  {
   "cell_type": "code",
   "execution_count": 22,
   "metadata": {},
   "outputs": [],
   "source": [
    "def difference(array, need, count):\n",
    "    counter = 0\n",
    "    final_array = [need]\n",
    "    while (need in array) and (counter != count):\n",
    "        final_array.append(need)\n",
    "        array.pop(array.index(need))\n",
    "        counter += 1\n",
    "\n",
    "    if counter >= count:\n",
    "        return 0\n",
    "\n",
    "    while counter < count:\n",
    "        step_min = min(final_array)\n",
    "        step_max = max(final_array)\n",
    "        potential_min = min(array, key=lambda x: abs(x - step_min))\n",
    "        potential_max = min(array, key=lambda x: abs(x - step_max))\n",
    "        print(step_min, step_max)\n",
    "        print(potential_min, potential_max)\n",
    "        print('\\n')\n",
    "        if potential_max - step_min < step_max - potential_min:\n",
    "            array.pop(array.index(potential_max))\n",
    "            final_array.append(potential_max)\n",
    "        else:\n",
    "            array.pop(array.index(potential_min))\n",
    "            final_array.append(potential_min)\n",
    "        counter += 1\n",
    "    return max(final_array) - min(final_array)\n"
   ]
  },
  {
   "cell_type": "code",
   "execution_count": 23,
   "metadata": {},
   "outputs": [
    {
     "name": "stdout",
     "output_type": "stream",
     "text": [
      "5 5\n",
      "3 3\n",
      "\n",
      "\n",
      "3 5\n",
      "7 7\n",
      "\n",
      "\n",
      "3 7\n",
      "9 9\n",
      "\n",
      "\n"
     ]
    },
    {
     "data": {
      "text/plain": [
       "6"
      ]
     },
     "execution_count": 23,
     "metadata": {},
     "output_type": "execute_result"
    }
   ],
   "source": [
    "difference([3, 7, 9, 10], 5, 3)"
   ]
  }
 ],
 "metadata": {
  "colab": {
   "collapsed_sections": [],
   "name": "homework-practice-08-random-features.ipynb",
   "provenance": []
  },
  "kernelspec": {
   "display_name": "Python 3",
   "language": "python",
   "name": "python3"
  },
  "language_info": {
   "codemirror_mode": {
    "name": "ipython",
    "version": 3
   },
   "file_extension": ".py",
   "mimetype": "text/x-python",
   "name": "python",
   "nbconvert_exporter": "python",
   "pygments_lexer": "ipython3",
   "version": "3.11.7"
  }
 },
 "nbformat": 4,
 "nbformat_minor": 1
}
